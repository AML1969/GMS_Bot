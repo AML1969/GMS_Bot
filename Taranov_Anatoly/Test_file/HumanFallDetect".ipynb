{
  "nbformat": 4,
  "nbformat_minor": 0,
  "metadata": {
    "colab": {
      "provenance": [],
      "authorship_tag": "ABX9TyOyT7pCu44Z370ICrpMUjGM",
      "include_colab_link": true
    },
    "kernelspec": {
      "name": "python3",
      "display_name": "Python 3"
    },
    "language_info": {
      "name": "python"
    }
  },
  "cells": [
    {
      "cell_type": "markdown",
      "metadata": {
        "id": "view-in-github",
        "colab_type": "text"
      },
      "source": [
        "<a href=\"https://colab.research.google.com/github/alecseiterr/safe_city/blob/main/Taranov_Anatoly/Test_file/HumanFallDetect%22.ipynb\" target=\"_parent\"><img src=\"https://colab.research.google.com/assets/colab-badge.svg\" alt=\"Open In Colab\"/></a>"
      ]
    },
    {
      "cell_type": "markdown",
      "source": [
        "# Упрощённый ObjectDetect.\n",
        "* Вырез фрагмента видео\n",
        "* Проверка весов обученной сети детекцией на целевом видеофрагменте\n",
        "* Сохранение результата"
      ],
      "metadata": {
        "id": "oB2PWYz8HSsu"
      }
    },
    {
      "cell_type": "code",
      "execution_count": null,
      "metadata": {
        "colab": {
          "base_uri": "https://localhost:8080/"
        },
        "id": "gZkCoxiF4e9p",
        "outputId": "c0dc1dca-b4ae-435c-c7c1-5989cfa5083e"
      },
      "outputs": [
        {
          "output_type": "stream",
          "name": "stdout",
          "text": [
            "Drive already mounted at /content/drive/; to attempt to forcibly remount, call drive.mount(\"/content/drive/\", force_remount=True).\n"
          ]
        }
      ],
      "source": [
        "# Открываем доступ к гугл диску\n",
        "from google.colab import drive\n",
        "drive.mount('/content/drive/')"
      ]
    },
    {
      "cell_type": "code",
      "source": [
        "# ЗАПУСКАТЬ ПО НЕОБХОДИМОСТИ\n",
        "#import os\n",
        "#\n",
        "## Указываем путь к папке, которую нужно создать\n",
        "#output_directory = '/content/drive/MyDrive/ДИПЛОМ_ТГУ/Mytischi/img_dat_1'\n",
        "#\n",
        "## Проверяем, существует ли папка\n",
        "#if not os.path.exists(output_directory):\n",
        "#    # Создаем папку, если она не существует\n",
        "#    os.makedirs(output_directory)\n",
        "#    print(\"Папка успешно создана\")\n",
        "#else:\n",
        "#    print(\"Папка уже существует\")\n"
      ],
      "metadata": {
        "id": "TEHNUnx7fFvj"
      },
      "execution_count": null,
      "outputs": []
    },
    {
      "cell_type": "markdown",
      "source": [
        "# ВЫРЕЗАЕМ ФРАГМЕНТ ВИДЕО"
      ],
      "metadata": {
        "id": "YVQ6xPuD6ojW"
      }
    },
    {
      "cell_type": "code",
      "source": [
        "import cv2\n",
        "import numpy as np\n",
        "import os\n",
        "from google.colab import drive\n",
        "\n",
        "# Подключаем Google Drive\n",
        "drive.mount('/content/drive')\n",
        "\n",
        "# Открываем видеофайл\n",
        "video_path = '/content/drive/MyDrive/ДИПЛОМ_ТГУ/Mytischi/Город Мытищи с высоты птичьего полёта.mp4'\n",
        "cap = cv2.VideoCapture(video_path)\n",
        "\n",
        "# Параметры временных промежутков для вырезания\n",
        "start_time_1 = 118  # начальное время фрагмента (в секундах)\n",
        "end_time_1 = 128    # конечное время фрагмента (в секундах)\n",
        "\n",
        "# Создаем директорию для сохранения кадров\n",
        "output_directory = '/content/drive/MyDrive/ДИПЛОМ_ТГУ/Mytischi/img_dat_4'\n",
        "os.makedirs(output_directory, exist_ok=True)\n",
        "\n",
        "# Устанавливаем текущую позицию видео на начальное время первого фрагмента\n",
        "cap.set(cv2.CAP_PROP_POS_MSEC, start_time_1 * 1000)\n",
        "\n",
        "# Читаем и сохраняем кадры фрагмента\n",
        "frame_count = 0\n",
        "frames = []\n",
        "while cap.isOpened() and cap.get(cv2.CAP_PROP_POS_MSEC) <= end_time_1 * 1000:\n",
        "    ret, frame = cap.read()\n",
        "    if ret:\n",
        "        frame_count += 1\n",
        "        frames.append(frame)\n",
        "        # Сохраняем кадр в указанную директорию\n",
        "        cv2.imwrite(os.path.join(output_directory, f\"frame_{frame_count}.jpg\"), frame)\n",
        "    else:\n",
        "        break\n",
        "# Создаем видеофайл из кадров\n",
        "output_video_path = '/content/drive/MyDrive/ДИПЛОМ_ТГУ/Mytischi/вырезанный_фрагмен_4.mp4'  # Путь сохранения вырезанного видео фрагмента на гугл диске\n",
        "height, width, _ = frames[0].shape\n",
        "fourcc = cv2.VideoWriter_fourcc(*'mp4v')                                  # Кодек может дурковать запускать второй раз\n",
        "#fourcc = cv2.VideoWriter_fourcc(*'H264')\n",
        "out = cv2.VideoWriter(output_video_path, fourcc, 30.0, (width, height))\n",
        "\n",
        "for frame in frames:\n",
        "    out.write(frame)\n",
        "\n",
        "# Освобождаем ресурсы\n",
        "cap.release()\n",
        "out.release()\n",
        "cv2.destroyAllWindows()\n",
        "\n",
        "# Выводим для проверки и просмотра\n",
        "#import IPython.display as display\n",
        "#display.Video(output_video_path)"
      ],
      "metadata": {
        "colab": {
          "base_uri": "https://localhost:8080/"
        },
        "id": "Op-9XsnD34VH",
        "outputId": "4629de89-764a-4583-9a4e-867e89a48a7d"
      },
      "execution_count": null,
      "outputs": [
        {
          "output_type": "stream",
          "name": "stdout",
          "text": [
            "Drive already mounted at /content/drive; to attempt to forcibly remount, call drive.mount(\"/content/drive\", force_remount=True).\n"
          ]
        }
      ]
    },
    {
      "cell_type": "code",
      "source": [
        "## Вывод на экран\n",
        "#import IPython.display as display\n",
        "#display.Video(output_video_path)\n"
      ],
      "metadata": {
        "id": "3Bn9DTLTqp91"
      },
      "execution_count": null,
      "outputs": []
    },
    {
      "cell_type": "markdown",
      "source": [
        "# Упрощённый ObjectDetect"
      ],
      "metadata": {
        "id": "oJoQcaClATUi"
      }
    },
    {
      "cell_type": "markdown",
      "source": [
        "Загружаем модель"
      ],
      "metadata": {
        "id": "FQcMRjosATPr"
      }
    },
    {
      "cell_type": "code",
      "execution_count": null,
      "metadata": {
        "colab": {
          "base_uri": "https://localhost:8080/"
        },
        "id": "sljVV3wUu7Bs",
        "outputId": "5f7df8b3-7a40-43d9-af2e-ab2979344efb"
      },
      "outputs": [
        {
          "output_type": "stream",
          "name": "stdout",
          "text": [
            "Ultralytics YOLOv8.0.226 🚀 Python-3.10.12 torch-2.1.0+cu118 CPU (Intel Xeon 2.20GHz)\n",
            "Setup complete ✅ (2 CPUs, 12.7 GB RAM, 27.0/107.7 GB disk)\n"
          ]
        }
      ],
      "source": [
        "%pip install ultralytics\n",
        "import ultralytics\n",
        "ultralytics.checks()"
      ]
    },
    {
      "cell_type": "code",
      "source": [
        "import cv2\n",
        "from ultralytics import YOLO\n",
        "\n",
        "# Загрузка модели YOLOv8\n",
        "model = YOLO(\"yolov8m.pt\", \"/content/drive/MyDrive/MyDIPLOM/Weights/best.pt\")  # Модель, \"/путь к вашей папки с обученными весами /Weights/best.pt  (или путь к вашей обученной модели)\n",
        "\n",
        "# Открытие видеофайла\n",
        "video_path = \"/content/drive/MyDrive/MyDIPLOM/Mytischi/вырезанный_фрагмент.mp4\"  # Путь к вашему вырезанному видео фрагменту на вашем гугл диске\n",
        "cap = cv2.VideoCapture(video_path)\n",
        "\n",
        "# Определение параметров для сохранения видео\n",
        "fourcc = cv2.VideoWriter_fourcc(*'mp4v')\n",
        "output_path = '/content/drive/MyDrive/MyDIPLOM/Mytischi/track_result1.mp4'      # Путь к видео фрагменту c результатом работы Object Detect в папке \"track_result1.mp4\"на вашем гугл диске\n",
        "out = cv2.VideoWriter(output_path, fourcc, 30.0, (int(cap.get(3)), int(cap.get(4))))\n",
        "\n",
        "# Перебор кадров видео\n",
        "while cap.isOpened():\n",
        "    success, frame = cap.read()\n",
        "    if success:\n",
        "        # Выполнение трекинга с помощью YOLOv8 на кадре\n",
        "        results = model.track(frame, persist=True)\n",
        "\n",
        "        # Визуализация результатов на кадре\n",
        "        annotated_frame = results[0].plot()\n",
        "\n",
        "        # Сохранение аннотированного кадра\n",
        "        out.write(annotated_frame)\n",
        "\n",
        "        # Выход из цикла при нажатии клавиши 'q'\n",
        "        if cv2.waitKey(1) & 0xFF == ord(\"q\"):\n",
        "            break\n",
        "    else:\n",
        "        # Выход из цикла при достижении конца видео\n",
        "        break\n",
        "\n",
        "# Закрытие объекта захвата видео и записи\n",
        "cap.release()\n",
        "out.release()\n",
        "cv2.destroyAllWindows()\n",
        "\n",
        "# Вывод пути к сохраненному видео\n",
        "print(f\"Видео сохранено по пути: {output_path}\")\n"
      ],
      "metadata": {
        "id": "nDEbRxTAWzVm"
      },
      "execution_count": null,
      "outputs": []
    },
    {
      "cell_type": "markdown",
      "source": [
        "# Скачиваем файл c результатом работы Object Detect из папки \"track_result1.mp4\""
      ],
      "metadata": {
        "id": "XODQImM7MYJH"
      }
    }
  ]
}