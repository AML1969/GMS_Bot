{
  "nbformat": 4,
  "nbformat_minor": 0,
  "metadata": {
    "colab": {
      "provenance": [],
      "include_colab_link": true
    },
    "kernelspec": {
      "name": "python3",
      "display_name": "Python 3"
    },
    "language_info": {
      "name": "python"
    }
  },
  "cells": [
    {
      "cell_type": "markdown",
      "metadata": {
        "id": "view-in-github",
        "colab_type": "text"
      },
      "source": [
        "<a href=\"https://colab.research.google.com/github/alecseiterr/safe_city/blob/main/Taranov_Anatoly/Data%20preparation/My_Renaming.ipynb\" target=\"_parent\"><img src=\"https://colab.research.google.com/assets/colab-badge.svg\" alt=\"Open In Colab\"/></a>"
      ]
    },
    {
      "cell_type": "markdown",
      "source": [
        "# Переименование изображений после сборки набора изображений для подачи в roboflow для разметки"
      ],
      "metadata": {
        "id": "P2MmHNoD95IX"
      }
    },
    {
      "cell_type": "code",
      "source": [
        "import os\n",
        "\n",
        "from google.colab import drive\n",
        "drive.mount('/content/drive/')\n"
      ],
      "metadata": {
        "colab": {
          "base_uri": "https://localhost:8080/"
        },
        "id": "x97fOKH6-UHw",
        "outputId": "080dbc70-2153-4697-f373-993a4d6b3ae1"
      },
      "execution_count": null,
      "outputs": [
        {
          "output_type": "stream",
          "name": "stdout",
          "text": [
            "Mounted at /content/drive/\n"
          ]
        }
      ]
    },
    {
      "cell_type": "markdown",
      "source": [
        "# Renaming a file\n",
        "\n"
      ],
      "metadata": {
        "id": "96ElCVQKagG5"
      }
    },
    {
      "cell_type": "code",
      "source": [
        "# Код удаляет дубликаты сравнивая кэш и сохраняет с новым именем в новую папку\n",
        "\n",
        "import cv2\n",
        "import numpy as np\n",
        "import os\n",
        "import shutil\n",
        "from PIL import Image\n",
        "\n",
        "os.chdir(\"/content/drive/MyDrive/Стажировка/KvantTelecomMain/Конфликты/ВыборкаMy\")\n",
        "print(\"Текущая папка:\", os.getcwd())\n",
        "\n",
        "output_folder = \"/content/drive/MyDrive/Стажировка/KvantTelecomMain/Конфликты/MyRename1\"\n",
        "if not os.path.exists(output_folder):\n",
        "    os.makedirs(output_folder, exist_ok=True)\n",
        "\n",
        "old_file = os.listdir()\n",
        "new_file = []  # Add this line to define the new_file list\n",
        "\n",
        "def dhash(image, hash_size=8):\n",
        "    resized = cv2.resize(image, (hash_size + 1, hash_size))\n",
        "    diff = resized[:, 1:] > resized[:, :-1]\n",
        "    return sum([2 ** i for (i, v) in enumerate(diff.flatten()) if v])\n",
        "\n",
        "def is_similar(image1, image2, threshold=80):\n",
        "    hash1 = dhash(image1)\n",
        "    hash2 = dhash(image2)\n",
        "    difference = bin(hash1 ^ hash2).count('1')\n",
        "    similarity = (1 - difference / (8 * 8)) * 100\n",
        "    return similarity >= threshold\n",
        "\n",
        "for i in range(len(old_file)):\n",
        "    new_file_name = f'{i}unique{old_file[i][-4:]}'\n",
        "    new_file.append(new_file_name)\n",
        "    file_path = os.path.join(output_folder, new_file_name)\n",
        "\n",
        "    current_frame = cv2.imread(old_file[i])\n",
        "\n",
        "    is_duplicate = False\n",
        "    for frame in unique_frames:\n",
        "        if is_similar(current_frame, frame):\n",
        "            is_duplicate = True\n",
        "            break\n",
        "\n",
        "    if not is_duplicate:\n",
        "        unique_frames.append(current_frame)\n",
        "        shutil.copy2(old_file[i], file_path)\n",
        "        if len(unique_frames) == 5:\n",
        "            print(\"Результат переименования:\")\n",
        "            for file in new_file[:5]:\n",
        "                print(file)\n"
      ],
      "metadata": {
        "colab": {
          "base_uri": "https://localhost:8080/"
        },
        "outputId": "7b622f6a-2033-4209-bb19-7b2c18a0ea6e",
        "id": "sJpxlzXgJe8m"
      },
      "execution_count": null,
      "outputs": [
        {
          "output_type": "stream",
          "name": "stdout",
          "text": [
            "Текущая папка: /content/drive/MyDrive/Стажировка/KvantTelecomMain/Конфликты/ВыборкаMy\n",
            "Результат переименования:\n",
            "0unique.jpg\n",
            "1unique.jpg\n",
            "2unique.jpg\n",
            "3unique.jpg\n",
            "4unique.jpg\n"
          ]
        }
      ]
    }
  ]
}