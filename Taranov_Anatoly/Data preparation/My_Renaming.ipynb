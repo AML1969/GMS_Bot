{
  "nbformat": 4,
  "nbformat_minor": 0,
  "metadata": {
    "colab": {
      "provenance": [],
      "include_colab_link": true
    },
    "kernelspec": {
      "name": "python3",
      "display_name": "Python 3"
    },
    "language_info": {
      "name": "python"
    }
  },
  "cells": [
    {
      "cell_type": "markdown",
      "metadata": {
        "id": "view-in-github",
        "colab_type": "text"
      },
      "source": [
        "<a href=\"https://colab.research.google.com/github/alecseiterr/safe_city/blob/main/Taranov_Anatoly/Data%20preparation/My_Renaming.ipynb\" target=\"_parent\"><img src=\"https://colab.research.google.com/assets/colab-badge.svg\" alt=\"Open In Colab\"/></a>"
      ]
    },
    {
      "cell_type": "markdown",
      "source": [
        "# Переименование изображений после сборки набора изображений для подачи в roboflow для разметки"
      ],
      "metadata": {
        "id": "P2MmHNoD95IX"
      }
    },
    {
      "cell_type": "code",
      "source": [
        "import os\n",
        "\n",
        "from google.colab import drive\n",
        "drive.mount('/content/drive/')\n",
        "\n",
        "# вывести текущую папку\n",
        "# print(\"Текущая папка:\", os.getcwd())"
      ],
      "metadata": {
        "colab": {
          "base_uri": "https://localhost:8080/"
        },
        "id": "x97fOKH6-UHw",
        "outputId": "080dbc70-2153-4697-f373-993a4d6b3ae1"
      },
      "execution_count": null,
      "outputs": [
        {
          "output_type": "stream",
          "name": "stdout",
          "text": [
            "Mounted at /content/drive/\n"
          ]
        }
      ]
    },
    {
      "cell_type": "markdown",
      "source": [
        "# Renaming a file\n",
        "\n"
      ],
      "metadata": {
        "id": "96ElCVQKagG5"
      }
    },
    {
      "cell_type": "code",
      "source": [
        "# Код удаляет дубликаты сравнивая кэш и сохраняет с новым именем в новую папку\n",
        "\n",
        "import cv2\n",
        "import numpy as np\n",
        "import os\n",
        "import shutil\n",
        "from PIL import Image\n",
        "\n",
        "os.chdir(\"/content/drive/MyDrive/Стажировка/KvantTelecomMain/Конфликты/ВыборкаMy\")\n",
        "print(\"Текущая папка:\", os.getcwd())\n",
        "\n",
        "output_folder = \"/content/drive/MyDrive/Стажировка/KvantTelecomMain/Конфликты/MyRename1\"\n",
        "if not os.path.exists(output_folder):\n",
        "    os.makedirs(output_folder, exist_ok=True)\n",
        "\n",
        "old_file = os.listdir()\n",
        "new_file = []  # Add this line to define the new_file list\n",
        "\n",
        "def dhash(image, hash_size=8):\n",
        "    resized = cv2.resize(image, (hash_size + 1, hash_size))\n",
        "    diff = resized[:, 1:] > resized[:, :-1]\n",
        "    return sum([2 ** i for (i, v) in enumerate(diff.flatten()) if v])\n",
        "\n",
        "def is_similar(image1, image2, threshold=80):\n",
        "    hash1 = dhash(image1)\n",
        "    hash2 = dhash(image2)\n",
        "    difference = bin(hash1 ^ hash2).count('1')\n",
        "    similarity = (1 - difference / (8 * 8)) * 100\n",
        "    return similarity >= threshold\n",
        "\n",
        "for i in range(len(old_file)):\n",
        "    new_file_name = f'{i}unique{old_file[i][-4:]}'\n",
        "    new_file.append(new_file_name)\n",
        "    file_path = os.path.join(output_folder, new_file_name)\n",
        "\n",
        "    current_frame = cv2.imread(old_file[i])\n",
        "\n",
        "    is_duplicate = False\n",
        "    for frame in unique_frames:\n",
        "        if is_similar(current_frame, frame):\n",
        "            is_duplicate = True\n",
        "            break\n",
        "\n",
        "    if not is_duplicate:\n",
        "        unique_frames.append(current_frame)\n",
        "        shutil.copy2(old_file[i], file_path)\n",
        "        if len(unique_frames) == 5:\n",
        "            print(\"Результат переименования:\")\n",
        "            for file in new_file[:5]:\n",
        "                print(file)\n"
      ],
      "metadata": {
        "colab": {
          "base_uri": "https://localhost:8080/"
        },
        "outputId": "7b622f6a-2033-4209-bb19-7b2c18a0ea6e",
        "id": "sJpxlzXgJe8m"
      },
      "execution_count": null,
      "outputs": [
        {
          "output_type": "stream",
          "name": "stdout",
          "text": [
            "Текущая папка: /content/drive/MyDrive/Стажировка/KvantTelecomMain/Конфликты/ВыборкаMy\n",
            "Результат переименования:\n",
            "0unique.jpg\n",
            "1unique.jpg\n",
            "2unique.jpg\n",
            "3unique.jpg\n",
            "4unique.jpg\n"
          ]
        }
      ]
    },
    {
      "cell_type": "code",
      "source": [
        "# Код удаляет дубликаты сравнивая кэш и сохраняет с новым именем в новую папку удаляя иходные файлы\n",
        "\n",
        "import cv2\n",
        "import numpy as np\n",
        "import os\n",
        "from PIL import Image  # Импорт модуля Image из библиотеки PIL\n",
        "\n",
        "# Установить адрес папки\n",
        "os.chdir(\"/content/drive/MyDrive/Стажировка/KvantTelecomMain/Конфликты/ВыборкаMy\")\n",
        "print(\"Текущая папка:\", os.getcwd())\n",
        "\n",
        "# Создание папки для сохранения изображений\n",
        "output_folder = \"/content/drive/MyDrive/Стажировка/KvantTelecomMain/Конфликты/ВыбMyRename\"\n",
        "if not os.path.exists(output_folder):\n",
        "    os.makedirs(output_folder, exist_ok=True)\n",
        "\n",
        "old_file = []        # Список исходных файлов\n",
        "new_file = []        # Список переименованных файлов\n",
        "old_file = os.listdir()  # Записать в переменную список всех файлов в папке\n",
        "\n",
        "# Функция для вычисления хэша изображения\n",
        "def dhash(image, hash_size=8):\n",
        "    resized = cv2.resize(image, (hash_size + 1, hash_size))\n",
        "    diff = resized[:, 1:] > resized[:, :-1]\n",
        "    return sum([2 ** i for (i, v) in enumerate(diff.flatten()) if v])\n",
        "\n",
        "# Функция для проверки схожести двух изображений\n",
        "def is_similar(image1, image2, threshold=80):\n",
        "    hash1 = dhash(image1)\n",
        "    hash2 = dhash(image2)\n",
        "    difference = bin(hash1 ^ hash2).count('1')\n",
        "    similarity = (1 - difference / (8 * 8)) * 100\n",
        "    return similarity >= threshold\n",
        "\n",
        "# Список для хранения уникальных кадров\n",
        "unique_frames = []\n",
        "\n",
        "# Цикл для переименования файлов и проверки на дубликаты\n",
        "for i in range(len(old_file)):\n",
        "    new_file_name = f'{i}unique{old_file[i][-4:]}'\n",
        "    new_file.append(new_file_name)\n",
        "    file_path = os.path.join(output_folder, new_file_name)\n",
        "\n",
        "    # Загрузка текущего кадра\n",
        "    current_frame = cv2.imread(old_file[i])\n",
        "\n",
        "    # Проверка на дубликаты с предыдущими уникальными кадрами\n",
        "    is_duplicate = False\n",
        "    for frame in unique_frames:\n",
        "        if is_similar(current_frame, frame):\n",
        "            is_duplicate = True\n",
        "            break\n",
        "\n",
        "    # Если кадр не является дубликатом, сохранить его и добавить в список уникальных кадров\n",
        "    if not is_duplicate:\n",
        "        unique_frames.append(current_frame)\n",
        "        os.rename(old_file[i], file_path)\n",
        "        #print(f'{new_file_name} сохранен')\n",
        "\n",
        "        # Добавление строки для вывода нескольких строк результата для проверки результата переименования\n",
        "        if len(unique_frames) == 5:\n",
        "            print(\"Результат переименования:\")\n",
        "            for file in new_file[:5]:\n",
        "                print(file)\n",
        "\n",
        "def save_frame(frame_bgr, frame_count, output_dir):\n",
        "    frame_filename = f'frame_{frame_count}.png'\n",
        "    file_path = os.path.join(output_dir, frame_filename)\n",
        "    im_pil = Image.fromarray(cv2.cvtColor(frame_bgr, cv2.COLOR_BGR2RGB))\n",
        "    try:\n",
        "        im_pil.save(file_path)\n",
        "        print(f\"Сохранен кадр {frame_count} в {file_path}\")\n",
        "    except Exception as e:\n",
        "        print(f\"Не удалось сохранить кадр: {frame_filename}, Ошибка: {e}\")\n",
        "\n",
        "# Вызов функции save_frame с передачей значений frame_bgr и output_folder\n",
        "# save_frame(frame_bgr_value, frame_count_value, output_folder)\n"
      ],
      "metadata": {
        "colab": {
          "base_uri": "https://localhost:8080/"
        },
        "id": "Jrh1ONbE3Gao",
        "outputId": "882441e2-adb0-4497-e6f9-2b7e208f65c2"
      },
      "execution_count": null,
      "outputs": [
        {
          "output_type": "stream",
          "name": "stdout",
          "text": [
            "Текущая папка: /content/drive/MyDrive/Стажировка/KvantTelecomMain/Конфликты/ВыборкаMy\n",
            "Результат переименования:\n",
            "0unique.jpg\n",
            "1unique.jpg\n",
            "2unique.jpg\n",
            "3unique.jpg\n",
            "4unique.jpg\n"
          ]
        }
      ]
    }
  ]
}