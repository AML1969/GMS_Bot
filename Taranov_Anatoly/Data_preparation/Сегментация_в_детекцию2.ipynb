{
  "nbformat": 4,
  "nbformat_minor": 0,
  "metadata": {
    "colab": {
      "provenance": [],
      "authorship_tag": "ABX9TyMxAUhMlzX26hJE7S7Ut8s6",
      "include_colab_link": true
    },
    "kernelspec": {
      "name": "python3",
      "display_name": "Python 3"
    },
    "language_info": {
      "name": "python"
    }
  },
  "cells": [
    {
      "cell_type": "markdown",
      "metadata": {
        "id": "view-in-github",
        "colab_type": "text"
      },
      "source": [
        "<a href=\"https://colab.research.google.com/github/alecseiterr/safe_city/blob/main/Taranov_Anatoly/Data_preparation/%D0%A1%D0%B5%D0%B3%D0%BC%D0%B5%D0%BD%D1%82%D0%B0%D1%86%D0%B8%D1%8F_%D0%B2_%D0%B4%D0%B5%D1%82%D0%B5%D0%BA%D1%86%D0%B8%D1%8E2.ipynb\" target=\"_parent\"><img src=\"https://colab.research.google.com/assets/colab-badge.svg\" alt=\"Open In Colab\"/></a>"
      ]
    },
    {
      "cell_type": "markdown",
      "source": [
        "# Замена формата аннотаций (контуры на прямоугольники)."
      ],
      "metadata": {
        "id": "PNdVR_TjQ3BN"
      }
    },
    {
      "cell_type": "code",
      "execution_count": null,
      "metadata": {
        "id": "UiWlWcv2Qyc_"
      },
      "outputs": [],
      "source": [
        "import os\n",
        "import glob\n",
        "\n",
        "# Укажите путь к папке с исходными аннотациями\n",
        "source_folder = 'C:/Users/kvnlo/Downloads/CloseMeduim2.1_Train_Valid/CloseMeduim2.1_Train_Valid10/valid/labels'  # Пример пути для Windows\n",
        "\n",
        "# Укажите путь к папке, где будут сохраняться новые аннотации\n",
        "destination_folder = 'C:/Users/kvnlo/Downloads/CloseMeduim2.1_Train_Valid/CloseMeduim2.1_Train_Valid10/valid/labels1'  # Пример пути для Windows\n",
        "\n",
        "# Создание папки для новых аннотаций, если она не существует\n",
        "if not os.path.exists(destination_folder):\n",
        "    os.makedirs(destination_folder)\n",
        "\n",
        "# Функция для обработки одного файла аннотаций\n",
        "def process_annotation_file(file_path, dest_folder):\n",
        "    with open(file_path, 'r') as file:\n",
        "        lines = file.readlines()\n",
        "\n",
        "    new_lines = []\n",
        "    for line in lines:\n",
        "        parts = line.split()\n",
        "        class_id = parts[0]  # Сохранение класса сегмента\n",
        "        coordinates = list(map(float, parts[1:]))  # Преобразование координат в float\n",
        "\n",
        "        # Вычисление координат прямоугольника\n",
        "        x_coords = coordinates[0::2]\n",
        "        y_coords = coordinates[1::2]\n",
        "        xmin, xmax = min(x_coords), max(x_coords)\n",
        "        ymin, ymax = min(y_coords), max(y_coords)\n",
        "\n",
        "        # Формирование новой строки аннотации\n",
        "        new_line = f'{class_id} {xmin} {ymin} {xmax} {ymax}\\n'\n",
        "        new_lines.append(new_line)\n",
        "\n",
        "    # Запись новых аннотаций в файл в папке назначения\n",
        "    new_file_path = os.path.join(dest_folder, os.path.basename(file_path))\n",
        "    with open(new_file_path, 'w') as new_file:\n",
        "        new_file.writelines(new_lines)\n",
        "\n",
        "# Обработка всех файлов в папке\n",
        "for file_path in glob.glob(os.path.join(source_folder, '*.txt')):\n",
        "    process_annotation_file(file_path, destination_folder)\n",
        "\n",
        "print(\"Преобразование аннотаций завершено.\")"
      ]
    }
  ]
}