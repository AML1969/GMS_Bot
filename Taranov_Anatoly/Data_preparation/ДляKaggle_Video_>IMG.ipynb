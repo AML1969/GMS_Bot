{
  "nbformat": 4,
  "nbformat_minor": 0,
  "metadata": {
    "colab": {
      "provenance": [],
      "authorship_tag": "ABX9TyNg0zoGf7UeWmWxv8Slcp/w",
      "include_colab_link": true
    },
    "kernelspec": {
      "name": "python3",
      "display_name": "Python 3"
    },
    "language_info": {
      "name": "python"
    }
  },
  "cells": [
    {
      "cell_type": "markdown",
      "metadata": {
        "id": "view-in-github",
        "colab_type": "text"
      },
      "source": [
        "<a href=\"https://colab.research.google.com/github/alecseiterr/safe_city/blob/main/Taranov_Anatoly/Data_preparation/%D0%94%D0%BB%D1%8FKaggle_Video_%3EIMG.ipynb\" target=\"_parent\"><img src=\"https://colab.research.google.com/assets/colab-badge.svg\" alt=\"Open In Colab\"/></a>"
      ]
    },
    {
      "cell_type": "markdown",
      "source": [
        "# Сборка видео из набора фрагментов, нарезки на кадры и переименование для подачи на разметку\n",
        "\n",
        "* Конкатенация видеофрагментов.\n",
        "* Чтение видеофайлов, извлечение кадров и сохранение их с заданной частотой кадров в секунду  \n",
        "* Переименовывает файлы для унифицирования названий\n",
        "  для последыющей индентификации по номеру в имени.\n",
        "* Добавляет изображения в папку сбора с индексом следыющим за последним п. сбора\n",
        "* При добавлении файлов с другого источника не забываем менять путь входного\n",
        "* Устанавливаем - start_index = 20  # Начальный индекс следыющей партии файлов.\n",
        "  \n"
      ],
      "metadata": {
        "id": "P2MmHNoD95IX"
      }
    },
    {
      "cell_type": "code",
      "execution_count": 1,
      "metadata": {
        "colab": {
          "base_uri": "https://localhost:8080/"
        },
        "outputId": "96f8bcd4-ba63-4d11-9c54-f82cab8beb59",
        "id": "EAvx_xDe1zOg"
      },
      "outputs": [
        {
          "output_type": "stream",
          "name": "stdout",
          "text": [
            "Mounted at /content/drive/\n"
          ]
        }
      ],
      "source": [
        "\n",
        "from google.colab import drive\n",
        "drive.mount('/content/drive/')"
      ]
    },
    {
      "cell_type": "code",
      "source": [
        "import os\n",
        "import cv2\n",
        "\n",
        "# Задаем путь к папке с видеофрагментами\n",
        "input_folder_path = '/content/drive/MyDrive/KvantTelecomMain/Конфликты/Violence'\n",
        "\n",
        "# Задаем путь для сохранения кадров изображений\n",
        "output_folder_path = '/content/drive/MyDrive/KvantTelecomMain/Конфликты/Violence_img1'\n",
        "\n",
        "# Проверяем, существует ли папка для сохранения кадров, и создаем ее, если нет\n",
        "if not os.path.exists(output_folder_path):\n",
        "    os.makedirs(output_folder_path)\n",
        "\n",
        "# Чтение видеофайлов, извлечение кадров и сохранение их с частотой 10 кадров в секунду\n",
        "for file_name in os.listdir(input_folder_path):\n",
        "    file_path = os.path.join(input_folder_path, file_name)\n",
        "    cap = cv2.VideoCapture(file_path)\n",
        "    frame_rate = cap.get(cv2.CAP_PROP_FPS)\n",
        "    frame_count = int(cap.get(cv2.CAP_PROP_FRAME_COUNT))\n",
        "    duration = frame_count / frame_rate\n",
        "    frame_number = 0\n",
        "    while cap.isOpened():\n",
        "        ret, frame = cap.read()\n",
        "        if not ret:\n",
        "            break\n",
        "\n",
        "        if frame_number % (int(frame_rate) // 6) == 0:\n",
        "            cv2.imwrite(os.path.join(output_folder_path, f'{file_name}_frame_{frame_number}.jpg'), frame)\n",
        "        frame_number += 1\n",
        "    cap.release()\n",
        "\n",
        "# Вывод количества сохранённых файлов\n",
        "print(f\"Количество сохранённых файлов: {len(os.listdir(output_folder_path))}\")\n",
        "\n",
        "# Вывод пяти имен файлов\n",
        "print(\"Первые пять имен файлов:\")\n",
        "for file_name in os.listdir(output_folder_path)[:5]:\n",
        "    print(file_name)\n"
      ],
      "metadata": {
        "colab": {
          "base_uri": "https://localhost:8080/"
        },
        "id": "9UgMi9xJyhRJ",
        "outputId": "1418991f-6ddf-408c-9c47-f77ae1cb49f1"
      },
      "execution_count": 2,
      "outputs": [
        {
          "output_type": "stream",
          "name": "stdout",
          "text": [
            "Количество сохранённых файлов: 5785\n",
            "Первые пять имен файлов:\n",
            "v011_converted.avi_frame_0.jpg\n",
            "v011_converted.avi_frame_5.jpg\n",
            "v011_converted.avi_frame_10.jpg\n",
            "v011_converted.avi_frame_15.jpg\n",
            "v011_converted.avi_frame_20.jpg\n"
          ]
        }
      ]
    },
    {
      "cell_type": "markdown",
      "source": [
        "# Renaming a file\n",
        "* Переименование в исходной папке\n",
        "* формат .bmp"
      ],
      "metadata": {
        "id": "Sh84q4dblXWn"
      }
    },
    {
      "cell_type": "code",
      "source": [
        "import os\n",
        "\n",
        "# Задаем путь к папке с изображениями\n",
        "input_folder_path = '/content/drive/MyDrive/KvantTelecomMain/Конфликты/Violence_img1'\n",
        "\n",
        "# Задаем путь для сохранения переименованных кадров изображений\n",
        "output_folder_path = '/content/drive/MyDrive/KvantTelecomMain/Конфликты/fight_img_3'\n",
        "\n",
        "# Проверяем, существует ли папка для сохранения кадров, и создаем ее, если нет\n",
        "if not os.path.exists(output_folder_path):\n",
        "    os.makedirs(output_folder_path)\n",
        "\n",
        "# Переименование сохранённых кадров в формате - f'img_{i}.bmp'\n",
        "for i, file_name in enumerate(os.listdir(input_folder_path)):\n",
        "    new_file_name = f'img_{i}.bmp'\n",
        "    os.rename(os.path.join(input_folder_path, file_name), os.path.join(output_folder_path, new_file_name))\n",
        "\n",
        "# Вывод количества сохранённых файлов\n",
        "print(f\"Количество сохранённых файлов: {len(os.listdir(output_folder_path))}\")\n",
        "\n",
        "# Вывод пяти имен файлов\n",
        "print(\"Первые пять имен файлов:\")\n",
        "for file_name in os.listdir(output_folder_path)[:5]:\n",
        "    print(file_name)\n"
      ],
      "metadata": {
        "colab": {
          "base_uri": "https://localhost:8080/"
        },
        "id": "eHP1KgUKjbfz",
        "outputId": "78dfa46d-4639-491d-ac6d-547dd947b31e"
      },
      "execution_count": 3,
      "outputs": [
        {
          "output_type": "stream",
          "name": "stdout",
          "text": [
            "Количество сохранённых файлов: 5785\n",
            "Первые пять имен файлов:\n",
            "fight2_0.bmp\n",
            "fight2_1.bmp\n",
            "fight2_2.bmp\n",
            "fight2_3.bmp\n",
            "fight2_4.bmp\n"
          ]
        }
      ]
    },
    {
      "cell_type": "markdown",
      "source": [
        "# Renaming a file\n",
        "* для добавочных файлов\n",
        "* формат .bmp"
      ],
      "metadata": {
        "id": "x1gSGNjjyFSv"
      }
    },
    {
      "cell_type": "code",
      "source": [
        "import cv2\n",
        "import numpy as np\n",
        "import os\n",
        "import shutil\n",
        "from PIL import Image\n",
        "\n",
        "os.chdir(\"/content/drive/MyDrive/Стажировка/KvantTelecomMain/Конфликты/Violence_img2\")\n",
        "print(\"Текущая папка:\", os.getcwd())\n",
        "\n",
        "output_folder = \"/content/drive/MyDrive/Стажировка/KvantTelecomMain/Конфликты/Violence_img3\"\n",
        "if not os.path.exists(output_folder):\n",
        "    os.makedirs(output_folder, exist_ok=True)\n",
        "print(\"output_folder:\", output_folder)\n",
        "\n",
        "old_file = os.listdir()\n",
        "new_file = []  # Добавлена эта строка для определения списка new_file\n",
        "img_frames = []  # Добавлена эта строка для определения списка img_frames\n",
        "\n",
        "start_index = 5  # Начальный индекс для сохранения и переименования файлов\n",
        "\n",
        "for i in range(len(old_file)):\n",
        "    new_file_name = f'img_{start_index + i}.bmp'  # Изменено имя нового файла с учетом начального индекса и формата .bmp\n",
        "    new_file.append(new_file_name)\n",
        "    file_path = os.path.join(output_folder, new_file_name)\n",
        "\n",
        "    current_frame = cv2.imread(old_file[i])\n",
        "\n",
        "    is_duplicate = False\n",
        "    for frame in img_frames:\n",
        "        if is_similar(current_frame, frame):\n",
        "            is_duplicate = True\n",
        "            break\n",
        "\n",
        "    if not is_duplicate:\n",
        "        img_frames.append(current_frame)\n",
        "\n",
        "        # Сохранение изображения в формате .bmp\n",
        "        cv2.imwrite(file_path, current_frame)\n",
        "\n",
        "        if len(img_frames) == 5:\n",
        "            print(\"Результат переименования:\")\n",
        "            for file in new_file[:5]:\n",
        "                print(file)\n",
        "# Вывод количества сохранённых файлов\n",
        "print(f\"Количество сохранённых файлов: {len(os.listdir(output_folder_path))}\")"
      ],
      "metadata": {
        "colab": {
          "base_uri": "https://localhost:8080/"
        },
        "id": "m_hmE-iRpaFZ",
        "outputId": "096a40d6-f655-4a89-84ac-1ec1ed9ae074"
      },
      "execution_count": null,
      "outputs": [
        {
          "output_type": "stream",
          "name": "stdout",
          "text": [
            "Текущая папка: /content/drive/MyDrive/Стажировка/KvantTelecomMain/Конфликты/Violence_img2\n",
            "output_folder: /content/drive/MyDrive/Стажировка/KvantTelecomMain/Конфликты/Violence_img3\n",
            "Результат переименования:\n",
            "img_5.bmp\n",
            "img_6.bmp\n",
            "img_7.bmp\n",
            "img_8.bmp\n",
            "img_9.bmp\n"
          ]
        }
      ]
    }
  ]
}