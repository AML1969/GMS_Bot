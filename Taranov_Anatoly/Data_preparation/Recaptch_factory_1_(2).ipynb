{
  "cells": [
    {
      "cell_type": "markdown",
      "metadata": {
        "id": "view-in-github",
        "colab_type": "text"
      },
      "source": [
        "<a href=\"https://colab.research.google.com/github/alecseiterr/safe_city/blob/main/Taranov_Anatoly/Data_preparation/Recaptch_factory_1_(2).ipynb\" target=\"_parent\"><img src=\"https://colab.research.google.com/assets/colab-badge.svg\" alt=\"Open In Colab\"/></a>"
      ]
    },
    {
      "cell_type": "code",
      "execution_count": null,
      "id": "dff35334",
      "metadata": {
        "id": "dff35334"
      },
      "outputs": [],
      "source": [
        "# pip install opencv-python\n",
        "# pip install ultralytics"
      ]
    },
    {
      "cell_type": "code",
      "execution_count": null,
      "id": "45ad6aed",
      "metadata": {
        "id": "45ad6aed"
      },
      "outputs": [],
      "source": [
        "import cv2\n",
        "import os\n",
        "from ultralytics import YOLO"
      ]
    },
    {
      "cell_type": "code",
      "execution_count": null,
      "id": "f8b1884c",
      "metadata": {
        "id": "f8b1884c"
      },
      "outputs": [],
      "source": [
        "model = YOLO('y8models/recap-best-7-s-35.pt')"
      ]
    },
    {
      "cell_type": "code",
      "execution_count": null,
      "id": "5e5869bc",
      "metadata": {
        "id": "5e5869bc"
      },
      "outputs": [],
      "source": [
        "def delete_files_in_folder(folder_path):\n",
        "    for root, dirs, files in os.walk(folder_path):\n",
        "        for file_name in files:\n",
        "            file_path = os.path.join(root, file_name)\n",
        "            try:\n",
        "                os.unlink(file_path)\n",
        "            except Exception as e:\n",
        "                print(f\"Error deleting file: {file_path} -- {e}\")"
      ]
    },
    {
      "cell_type": "code",
      "execution_count": null,
      "id": "dccf4180",
      "metadata": {
        "id": "dccf4180",
        "outputId": "46a9204e-0c78-4ace-ec03-48fe6e1292af"
      },
      "outputs": [
        {
          "name": "stdout",
          "output_type": "stream",
          "text": [
            "В папке имеется 133 изображений\n"
          ]
        }
      ],
      "source": [
        "directory = r\"C:\\gyb_users\\collection\\recaptcha\\recaptcha-factory\"\n",
        "train_images_path = 'imgbase/train/images'\n",
        "img_list = os.listdir(directory)\n",
        "print(f\"В папке имеется {len(img_list)} изображений\")"
      ]
    },
    {
      "cell_type": "code",
      "execution_count": null,
      "id": "9090dad7",
      "metadata": {
        "id": "9090dad7"
      },
      "outputs": [],
      "source": [
        "delete_files_in_folder('imgbase/train/images')\n",
        "delete_files_in_folder('imgbase/train/labels')"
      ]
    },
    {
      "cell_type": "code",
      "execution_count": null,
      "id": "7658c63e",
      "metadata": {
        "id": "7658c63e",
        "outputId": "bc4075b8-0e66-4731-e680-d84645fcf6df"
      },
      "outputs": [
        {
          "name": "stderr",
          "output_type": "stream",
          "text": [
            "\n"
          ]
        },
        {
          "name": "stdout",
          "output_type": "stream",
          "text": [
            "C:\\gyb_users\\collection\\recaptcha\\recaptcha-factory\\tractor_2022-09-30_16-40-00.png\n"
          ]
        },
        {
          "name": "stderr",
          "output_type": "stream",
          "text": [
            "0: 800x800 3 tractors, 475.0ms\n",
            "Speed: 3.0ms preprocess, 475.0ms inference, 1.0ms postprocess per image at shape (1, 3, 800, 800)\n",
            "\n"
          ]
        },
        {
          "name": "stdout",
          "output_type": "stream",
          "text": [
            "C:\\gyb_users\\collection\\recaptcha\\recaptcha-factory\\tractor_2022-09-30_18-16-09.png\n"
          ]
        },
        {
          "name": "stderr",
          "output_type": "stream",
          "text": [
            "0: 800x800 1 pedestrian crossing, 1 stairs, 3 tractors, 473.0ms\n",
            "Speed: 2.0ms preprocess, 473.0ms inference, 1.0ms postprocess per image at shape (1, 3, 800, 800)\n",
            "\n"
          ]
        },
        {
          "name": "stdout",
          "output_type": "stream",
          "text": [
            "C:\\gyb_users\\collection\\recaptcha\\recaptcha-factory\\tractor_2022-09-30_18-16-34.png\n"
          ]
        },
        {
          "name": "stderr",
          "output_type": "stream",
          "text": [
            "0: 800x800 3 tractors, 515.0ms\n",
            "Speed: 1.0ms preprocess, 515.0ms inference, 1.0ms postprocess per image at shape (1, 3, 800, 800)\n",
            "\n"
          ]
        },
        {
          "name": "stdout",
          "output_type": "stream",
          "text": [
            "C:\\gyb_users\\collection\\recaptcha\\recaptcha-factory\\tractor_2022-09-30_19-18-10.png\n"
          ]
        },
        {
          "name": "stderr",
          "output_type": "stream",
          "text": [
            "0: 800x800 1 palmtree, 3 tractors, 463.0ms\n",
            "Speed: 1.0ms preprocess, 463.0ms inference, 2.0ms postprocess per image at shape (1, 3, 800, 800)\n",
            "\n"
          ]
        },
        {
          "name": "stdout",
          "output_type": "stream",
          "text": [
            "C:\\gyb_users\\collection\\recaptcha\\recaptcha-factory\\tractor_2022-09-30_20-21-42.png\n"
          ]
        },
        {
          "name": "stderr",
          "output_type": "stream",
          "text": [
            "0: 800x800 3 tractors, 500.0ms\n",
            "Speed: 2.0ms preprocess, 500.0ms inference, 1.0ms postprocess per image at shape (1, 3, 800, 800)\n",
            "\n"
          ]
        },
        {
          "name": "stdout",
          "output_type": "stream",
          "text": [
            "C:\\gyb_users\\collection\\recaptcha\\recaptcha-factory\\tractor_2022-09-30_21-04-14.png\n"
          ]
        },
        {
          "name": "stderr",
          "output_type": "stream",
          "text": [
            "0: 800x800 2 tractors, 461.0ms\n",
            "Speed: 2.0ms preprocess, 461.0ms inference, 2.0ms postprocess per image at shape (1, 3, 800, 800)\n",
            "\n"
          ]
        },
        {
          "name": "stdout",
          "output_type": "stream",
          "text": [
            "C:\\gyb_users\\collection\\recaptcha\\recaptcha-factory\\tractor_2022-09-30_22-26-10.png\n"
          ]
        },
        {
          "name": "stderr",
          "output_type": "stream",
          "text": [
            "0: 800x800 (no detections), 510.0ms\n",
            "Speed: 2.0ms preprocess, 510.0ms inference, 0.0ms postprocess per image at shape (1, 3, 800, 800)\n",
            "\n"
          ]
        },
        {
          "name": "stdout",
          "output_type": "stream",
          "text": [
            "C:\\gyb_users\\collection\\recaptcha\\recaptcha-factory\\tractor_2022-09-30_22-43-06.png\n"
          ]
        },
        {
          "name": "stderr",
          "output_type": "stream",
          "text": [
            "0: 800x800 1 palmtree, 4 tractors, 496.0ms\n",
            "Speed: 1.0ms preprocess, 496.0ms inference, 1.0ms postprocess per image at shape (1, 3, 800, 800)\n",
            "\n"
          ]
        },
        {
          "name": "stdout",
          "output_type": "stream",
          "text": [
            "C:\\gyb_users\\collection\\recaptcha\\recaptcha-factory\\tractor_2022-09-30_22-43-35.png\n"
          ]
        },
        {
          "name": "stderr",
          "output_type": "stream",
          "text": [
            "0: 800x800 4 tractors, 468.0ms\n",
            "Speed: 2.0ms preprocess, 468.0ms inference, 1.0ms postprocess per image at shape (1, 3, 800, 800)\n",
            "\n"
          ]
        },
        {
          "name": "stdout",
          "output_type": "stream",
          "text": [
            "C:\\gyb_users\\collection\\recaptcha\\recaptcha-factory\\tractor_2022-10-01_00-51-15.png\n"
          ]
        },
        {
          "name": "stderr",
          "output_type": "stream",
          "text": [
            "0: 800x800 (no detections), 474.0ms\n",
            "Speed: 3.0ms preprocess, 474.0ms inference, 1.0ms postprocess per image at shape (1, 3, 800, 800)\n",
            "\n"
          ]
        },
        {
          "name": "stdout",
          "output_type": "stream",
          "text": [
            "C:\\gyb_users\\collection\\recaptcha\\recaptcha-factory\\tractor_2022-10-01_08-21-10.png\n"
          ]
        },
        {
          "name": "stderr",
          "output_type": "stream",
          "text": [
            "0: 800x800 1 palmtree, 1 taxi, 3 tractors, 515.0ms\n",
            "Speed: 2.0ms preprocess, 515.0ms inference, 1.0ms postprocess per image at shape (1, 3, 800, 800)\n",
            "\n"
          ]
        },
        {
          "name": "stdout",
          "output_type": "stream",
          "text": [
            "C:\\gyb_users\\collection\\recaptcha\\recaptcha-factory\\tractor_2022-10-01_09-29-31.png\n"
          ]
        },
        {
          "name": "stderr",
          "output_type": "stream",
          "text": [
            "0: 800x800 3 pedestrian crossings, 4 tractors, 496.0ms\n",
            "Speed: 2.0ms preprocess, 496.0ms inference, 2.0ms postprocess per image at shape (1, 3, 800, 800)\n",
            "\n"
          ]
        },
        {
          "name": "stdout",
          "output_type": "stream",
          "text": [
            "C:\\gyb_users\\collection\\recaptcha\\recaptcha-factory\\tractor_2022-10-01_09-59-21.png\n"
          ]
        },
        {
          "name": "stderr",
          "output_type": "stream",
          "text": [
            "0: 800x800 1 pedestrian crossing, 3 tractors, 517.0ms\n",
            "Speed: 2.0ms preprocess, 517.0ms inference, 1.0ms postprocess per image at shape (1, 3, 800, 800)\n",
            "\n"
          ]
        },
        {
          "name": "stdout",
          "output_type": "stream",
          "text": [
            "C:\\gyb_users\\collection\\recaptcha\\recaptcha-factory\\tractor_2022-10-01_09-59-54.png\n"
          ]
        },
        {
          "name": "stderr",
          "output_type": "stream",
          "text": [
            "0: 800x800 6 tractors, 511.0ms\n",
            "Speed: 8.0ms preprocess, 511.0ms inference, 2.0ms postprocess per image at shape (1, 3, 800, 800)\n",
            "\n"
          ]
        },
        {
          "name": "stdout",
          "output_type": "stream",
          "text": [
            "C:\\gyb_users\\collection\\recaptcha\\recaptcha-factory\\tractor_2022-10-01_10-17-21.png\n"
          ]
        },
        {
          "name": "stderr",
          "output_type": "stream",
          "text": [
            "0: 800x800 1 tractor, 498.0ms\n",
            "Speed: 9.0ms preprocess, 498.0ms inference, 2.0ms postprocess per image at shape (1, 3, 800, 800)\n",
            "\n"
          ]
        },
        {
          "name": "stdout",
          "output_type": "stream",
          "text": [
            "C:\\gyb_users\\collection\\recaptcha\\recaptcha-factory\\tractor_2022-10-01_11-18-50.png\n"
          ]
        },
        {
          "name": "stderr",
          "output_type": "stream",
          "text": [
            "0: 800x800 (no detections), 531.0ms\n",
            "Speed: 1.0ms preprocess, 531.0ms inference, 1.0ms postprocess per image at shape (1, 3, 800, 800)\n",
            "\n"
          ]
        },
        {
          "name": "stdout",
          "output_type": "stream",
          "text": [
            "C:\\gyb_users\\collection\\recaptcha\\recaptcha-factory\\tractor_2022-10-01_15-40-48.png\n"
          ]
        },
        {
          "name": "stderr",
          "output_type": "stream",
          "text": [
            "0: 800x800 (no detections), 539.0ms\n",
            "Speed: 2.0ms preprocess, 539.0ms inference, 1.0ms postprocess per image at shape (1, 3, 800, 800)\n",
            "\n"
          ]
        },
        {
          "name": "stdout",
          "output_type": "stream",
          "text": [
            "C:\\gyb_users\\collection\\recaptcha\\recaptcha-factory\\tractor_2022-10-01_15-41-31.png\n"
          ]
        },
        {
          "name": "stderr",
          "output_type": "stream",
          "text": [
            "0: 800x800 1 tractor, 514.0ms\n",
            "Speed: 2.0ms preprocess, 514.0ms inference, 1.0ms postprocess per image at shape (1, 3, 800, 800)\n",
            "\n"
          ]
        },
        {
          "name": "stdout",
          "output_type": "stream",
          "text": [
            "C:\\gyb_users\\collection\\recaptcha\\recaptcha-factory\\tractor_2022-10-01_18-11-53.png\n"
          ]
        },
        {
          "name": "stderr",
          "output_type": "stream",
          "text": [
            "0: 800x800 3 tractors, 558.0ms\n",
            "Speed: 2.0ms preprocess, 558.0ms inference, 1.0ms postprocess per image at shape (1, 3, 800, 800)\n",
            "\n"
          ]
        },
        {
          "name": "stdout",
          "output_type": "stream",
          "text": [
            "C:\\gyb_users\\collection\\recaptcha\\recaptcha-factory\\tractor_2022-10-01_18-57-42.png\n"
          ]
        },
        {
          "name": "stderr",
          "output_type": "stream",
          "text": [
            "0: 800x800 2 stairss, 4 tractors, 547.0ms\n",
            "Speed: 2.1ms preprocess, 547.0ms inference, 1.0ms postprocess per image at shape (1, 3, 800, 800)\n",
            "\n"
          ]
        },
        {
          "name": "stdout",
          "output_type": "stream",
          "text": [
            "C:\\gyb_users\\collection\\recaptcha\\recaptcha-factory\\tractor_2022-10-02_03-35-46.png\n"
          ]
        },
        {
          "name": "stderr",
          "output_type": "stream",
          "text": [
            "0: 800x800 1 pedestrian crossing, 4 tractors, 493.0ms\n",
            "Speed: 2.0ms preprocess, 493.0ms inference, 1.0ms postprocess per image at shape (1, 3, 800, 800)\n",
            "\n"
          ]
        },
        {
          "name": "stdout",
          "output_type": "stream",
          "text": [
            "C:\\gyb_users\\collection\\recaptcha\\recaptcha-factory\\tractor_2022-10-02_04-10-28.png\n"
          ]
        },
        {
          "name": "stderr",
          "output_type": "stream",
          "text": [
            "0: 800x800 3 tractors, 470.0ms\n",
            "Speed: 1.0ms preprocess, 470.0ms inference, 1.0ms postprocess per image at shape (1, 3, 800, 800)\n",
            "\n"
          ]
        },
        {
          "name": "stdout",
          "output_type": "stream",
          "text": [
            "C:\\gyb_users\\collection\\recaptcha\\recaptcha-factory\\tractor_2022-10-02_09-20-28.png\n"
          ]
        },
        {
          "name": "stderr",
          "output_type": "stream",
          "text": [
            "0: 800x800 3 tractors, 505.0ms\n",
            "Speed: 1.0ms preprocess, 505.0ms inference, 1.0ms postprocess per image at shape (1, 3, 800, 800)\n",
            "\n"
          ]
        },
        {
          "name": "stdout",
          "output_type": "stream",
          "text": [
            "C:\\gyb_users\\collection\\recaptcha\\recaptcha-factory\\tractor_2022-10-02_09-21-07.png\n"
          ]
        },
        {
          "name": "stderr",
          "output_type": "stream",
          "text": [
            "0: 800x800 1 palmtree, 1 pedestrian crossing, 3 tractors, 510.0ms\n",
            "Speed: 1.0ms preprocess, 510.0ms inference, 1.0ms postprocess per image at shape (1, 3, 800, 800)\n",
            "\n"
          ]
        },
        {
          "name": "stdout",
          "output_type": "stream",
          "text": [
            "C:\\gyb_users\\collection\\recaptcha\\recaptcha-factory\\tractor_2022-10-02_11-28-05.png\n"
          ]
        },
        {
          "name": "stderr",
          "output_type": "stream",
          "text": [
            "0: 800x800 3 palmtrees, 4 tractors, 514.0ms\n",
            "Speed: 1.0ms preprocess, 514.0ms inference, 1.0ms postprocess per image at shape (1, 3, 800, 800)\n",
            "\n"
          ]
        },
        {
          "name": "stdout",
          "output_type": "stream",
          "text": [
            "C:\\gyb_users\\collection\\recaptcha\\recaptcha-factory\\tractor_2022-10-02_11-57-21.png\n"
          ]
        },
        {
          "name": "stderr",
          "output_type": "stream",
          "text": [
            "0: 800x800 3 tractors, 504.0ms\n",
            "Speed: 1.0ms preprocess, 504.0ms inference, 1.0ms postprocess per image at shape (1, 3, 800, 800)\n",
            "\n"
          ]
        },
        {
          "name": "stdout",
          "output_type": "stream",
          "text": [
            "C:\\gyb_users\\collection\\recaptcha\\recaptcha-factory\\tractor_2022-10-02_15-04-55.png\n"
          ]
        },
        {
          "name": "stderr",
          "output_type": "stream",
          "text": [
            "0: 800x800 3 palmtrees, 3 tractors, 506.0ms\n",
            "Speed: 2.0ms preprocess, 506.0ms inference, 1.0ms postprocess per image at shape (1, 3, 800, 800)\n",
            "\n"
          ]
        },
        {
          "name": "stdout",
          "output_type": "stream",
          "text": [
            "C:\\gyb_users\\collection\\recaptcha\\recaptcha-factory\\tractor_2022-10-02_15-18-14.png\n"
          ]
        },
        {
          "name": "stderr",
          "output_type": "stream",
          "text": [
            "0: 800x800 3 tractors, 566.0ms\n",
            "Speed: 2.0ms preprocess, 566.0ms inference, 1.0ms postprocess per image at shape (1, 3, 800, 800)\n",
            "\n"
          ]
        },
        {
          "name": "stdout",
          "output_type": "stream",
          "text": [
            "C:\\gyb_users\\collection\\recaptcha\\recaptcha-factory\\tractor_2022-10-02_15-18-16.png\n"
          ]
        },
        {
          "name": "stderr",
          "output_type": "stream",
          "text": [
            "0: 800x800 3 tractors, 568.0ms\n",
            "Speed: 2.0ms preprocess, 568.0ms inference, 1.0ms postprocess per image at shape (1, 3, 800, 800)\n",
            "\n"
          ]
        },
        {
          "name": "stdout",
          "output_type": "stream",
          "text": [
            "C:\\gyb_users\\collection\\recaptcha\\recaptcha-factory\\tractor_2022-10-02_19-43-57.png\n"
          ]
        },
        {
          "name": "stderr",
          "output_type": "stream",
          "text": [
            "0: 800x800 1 palmtree, 1 taxi, 3 tractors, 538.0ms\n",
            "Speed: 2.0ms preprocess, 538.0ms inference, 1.0ms postprocess per image at shape (1, 3, 800, 800)\n",
            "\n"
          ]
        },
        {
          "name": "stdout",
          "output_type": "stream",
          "text": [
            "C:\\gyb_users\\collection\\recaptcha\\recaptcha-factory\\tractor_2022-10-02_23-01-08.png\n"
          ]
        },
        {
          "name": "stderr",
          "output_type": "stream",
          "text": [
            "0: 800x800 1 pedestrian crossing, 3 tractors, 474.0ms\n",
            "Speed: 2.0ms preprocess, 474.0ms inference, 1.0ms postprocess per image at shape (1, 3, 800, 800)\n",
            "\n"
          ]
        },
        {
          "name": "stdout",
          "output_type": "stream",
          "text": [
            "C:\\gyb_users\\collection\\recaptcha\\recaptcha-factory\\tractor_2022-10-03_01-41-27.png\n"
          ]
        },
        {
          "name": "stderr",
          "output_type": "stream",
          "text": [
            "0: 800x800 4 palmtrees, 3 tractors, 451.0ms\n",
            "Speed: 2.0ms preprocess, 451.0ms inference, 1.0ms postprocess per image at shape (1, 3, 800, 800)\n",
            "\n"
          ]
        },
        {
          "name": "stdout",
          "output_type": "stream",
          "text": [
            "C:\\gyb_users\\collection\\recaptcha\\recaptcha-factory\\tractor_2022-10-03_04-25-13.png\n"
          ]
        },
        {
          "name": "stderr",
          "output_type": "stream",
          "text": [
            "0: 800x800 1 palmtree, 3 tractors, 496.0ms\n",
            "Speed: 1.0ms preprocess, 496.0ms inference, 1.0ms postprocess per image at shape (1, 3, 800, 800)\n",
            "\n"
          ]
        },
        {
          "name": "stdout",
          "output_type": "stream",
          "text": [
            "C:\\gyb_users\\collection\\recaptcha\\recaptcha-factory\\tractor_2022-10-03_04-45-20.png\n"
          ]
        },
        {
          "name": "stderr",
          "output_type": "stream",
          "text": [
            "0: 800x800 4 tractors, 473.0ms\n",
            "Speed: 2.0ms preprocess, 473.0ms inference, 1.0ms postprocess per image at shape (1, 3, 800, 800)\n",
            "\n"
          ]
        },
        {
          "name": "stdout",
          "output_type": "stream",
          "text": [
            "C:\\gyb_users\\collection\\recaptcha\\recaptcha-factory\\tractor_2022-10-03_04-50-38.png\n"
          ]
        },
        {
          "name": "stderr",
          "output_type": "stream",
          "text": [
            "0: 800x800 3 tractors, 489.0ms\n",
            "Speed: 2.0ms preprocess, 489.0ms inference, 2.0ms postprocess per image at shape (1, 3, 800, 800)\n",
            "\n"
          ]
        },
        {
          "name": "stdout",
          "output_type": "stream",
          "text": [
            "C:\\gyb_users\\collection\\recaptcha\\recaptcha-factory\\tractor_2022-10-03_05-54-40.png\n"
          ]
        },
        {
          "name": "stderr",
          "output_type": "stream",
          "text": [
            "0: 800x800 1 palmtree, 3 tractors, 450.0ms\n",
            "Speed: 2.0ms preprocess, 450.0ms inference, 1.0ms postprocess per image at shape (1, 3, 800, 800)\n",
            "\n"
          ]
        },
        {
          "name": "stdout",
          "output_type": "stream",
          "text": [
            "C:\\gyb_users\\collection\\recaptcha\\recaptcha-factory\\tractor_2022-10-03_06-31-33.png\n"
          ]
        },
        {
          "name": "stderr",
          "output_type": "stream",
          "text": [
            "0: 800x800 1 stairs, 3 tractors, 550.0ms\n",
            "Speed: 2.0ms preprocess, 550.0ms inference, 1.0ms postprocess per image at shape (1, 3, 800, 800)\n",
            "\n"
          ]
        },
        {
          "name": "stdout",
          "output_type": "stream",
          "text": [
            "C:\\gyb_users\\collection\\recaptcha\\recaptcha-factory\\tractor_2022-10-03_12-36-10.png\n"
          ]
        },
        {
          "name": "stderr",
          "output_type": "stream",
          "text": [
            "0: 800x800 (no detections), 461.0ms\n",
            "Speed: 3.0ms preprocess, 461.0ms inference, 1.0ms postprocess per image at shape (1, 3, 800, 800)\n",
            "\n"
          ]
        },
        {
          "name": "stdout",
          "output_type": "stream",
          "text": [
            "C:\\gyb_users\\collection\\recaptcha\\recaptcha-factory\\tractor_2022-10-03_18-35-43.png\n"
          ]
        },
        {
          "name": "stderr",
          "output_type": "stream",
          "text": [
            "0: 800x800 1 pedestrian crossing, 3 tractors, 468.0ms\n",
            "Speed: 1.0ms preprocess, 468.0ms inference, 1.0ms postprocess per image at shape (1, 3, 800, 800)\n",
            "\n"
          ]
        },
        {
          "name": "stdout",
          "output_type": "stream",
          "text": [
            "C:\\gyb_users\\collection\\recaptcha\\recaptcha-factory\\tractor_2022-10-04_04-56-16.png\n"
          ]
        },
        {
          "name": "stderr",
          "output_type": "stream",
          "text": [
            "0: 800x800 (no detections), 457.0ms\n",
            "Speed: 2.0ms preprocess, 457.0ms inference, 1.0ms postprocess per image at shape (1, 3, 800, 800)\n",
            "\n"
          ]
        },
        {
          "name": "stdout",
          "output_type": "stream",
          "text": [
            "C:\\gyb_users\\collection\\recaptcha\\recaptcha-factory\\tractor_2022-10-04_06-12-32.png\n"
          ]
        },
        {
          "name": "stderr",
          "output_type": "stream",
          "text": [
            "0: 800x800 1 pedestrian crossing, 3 tractors, 443.0ms\n",
            "Speed: 1.0ms preprocess, 443.0ms inference, 1.0ms postprocess per image at shape (1, 3, 800, 800)\n",
            "\n"
          ]
        },
        {
          "name": "stdout",
          "output_type": "stream",
          "text": [
            "C:\\gyb_users\\collection\\recaptcha\\recaptcha-factory\\tractor_2022-10-04_09-54-16.png\n"
          ]
        },
        {
          "name": "stderr",
          "output_type": "stream",
          "text": [
            "0: 800x800 (no detections), 451.0ms\n",
            "Speed: 2.0ms preprocess, 451.0ms inference, 1.0ms postprocess per image at shape (1, 3, 800, 800)\n",
            "\n"
          ]
        },
        {
          "name": "stdout",
          "output_type": "stream",
          "text": [
            "C:\\gyb_users\\collection\\recaptcha\\recaptcha-factory\\tractor_2022-10-04_11-12-10.png\n"
          ]
        },
        {
          "name": "stderr",
          "output_type": "stream",
          "text": [
            "0: 800x800 (no detections), 464.0ms\n",
            "Speed: 1.0ms preprocess, 464.0ms inference, 1.0ms postprocess per image at shape (1, 3, 800, 800)\n",
            "\n"
          ]
        },
        {
          "name": "stdout",
          "output_type": "stream",
          "text": [
            "C:\\gyb_users\\collection\\recaptcha\\recaptcha-factory\\tractor_2022-10-04_16-46-08.png\n"
          ]
        },
        {
          "name": "stderr",
          "output_type": "stream",
          "text": [
            "0: 800x800 2 palmtrees, 1 pedestrian crossing, 4 tractors, 440.0ms\n",
            "Speed: 1.0ms preprocess, 440.0ms inference, 2.0ms postprocess per image at shape (1, 3, 800, 800)\n",
            "\n"
          ]
        },
        {
          "name": "stdout",
          "output_type": "stream",
          "text": [
            "C:\\gyb_users\\collection\\recaptcha\\recaptcha-factory\\tractor_2022-10-04_17-12-34.png\n"
          ]
        },
        {
          "name": "stderr",
          "output_type": "stream",
          "text": [
            "0: 800x800 (no detections), 455.0ms\n",
            "Speed: 1.0ms preprocess, 455.0ms inference, 1.0ms postprocess per image at shape (1, 3, 800, 800)\n",
            "\n"
          ]
        },
        {
          "name": "stdout",
          "output_type": "stream",
          "text": [
            "C:\\gyb_users\\collection\\recaptcha\\recaptcha-factory\\tractor_2022-10-04_17-43-34.png\n"
          ]
        },
        {
          "name": "stderr",
          "output_type": "stream",
          "text": [
            "0: 800x800 3 tractors, 485.0ms\n",
            "Speed: 1.0ms preprocess, 485.0ms inference, 1.0ms postprocess per image at shape (1, 3, 800, 800)\n",
            "\n"
          ]
        },
        {
          "name": "stdout",
          "output_type": "stream",
          "text": [
            "C:\\gyb_users\\collection\\recaptcha\\recaptcha-factory\\tractor_2022-10-04_18-53-32.png\n"
          ]
        },
        {
          "name": "stderr",
          "output_type": "stream",
          "text": [
            "0: 800x800 1 tractor, 452.0ms\n",
            "Speed: 2.0ms preprocess, 452.0ms inference, 1.0ms postprocess per image at shape (1, 3, 800, 800)\n",
            "\n"
          ]
        },
        {
          "name": "stdout",
          "output_type": "stream",
          "text": [
            "C:\\gyb_users\\collection\\recaptcha\\recaptcha-factory\\tractor_2022-10-04_18-53-35.png\n"
          ]
        },
        {
          "name": "stderr",
          "output_type": "stream",
          "text": [
            "0: 800x800 1 tractor, 429.0ms\n",
            "Speed: 2.0ms preprocess, 429.0ms inference, 1.0ms postprocess per image at shape (1, 3, 800, 800)\n",
            "\n"
          ]
        },
        {
          "name": "stdout",
          "output_type": "stream",
          "text": [
            "C:\\gyb_users\\collection\\recaptcha\\recaptcha-factory\\tractor_2022-10-04_21-06-18.png\n"
          ]
        },
        {
          "name": "stderr",
          "output_type": "stream",
          "text": [
            "0: 800x800 2 pedestrian crossings, 3 tractors, 469.0ms\n",
            "Speed: 1.0ms preprocess, 469.0ms inference, 1.0ms postprocess per image at shape (1, 3, 800, 800)\n",
            "\n"
          ]
        },
        {
          "name": "stdout",
          "output_type": "stream",
          "text": [
            "C:\\gyb_users\\collection\\recaptcha\\recaptcha-factory\\tractor_2022-10-04_21-44-30.png\n"
          ]
        },
        {
          "name": "stderr",
          "output_type": "stream",
          "text": [
            "0: 800x800 1 pedestrian crossing, 446.0ms\n",
            "Speed: 1.0ms preprocess, 446.0ms inference, 1.0ms postprocess per image at shape (1, 3, 800, 800)\n",
            "\n"
          ]
        },
        {
          "name": "stdout",
          "output_type": "stream",
          "text": [
            "C:\\gyb_users\\collection\\recaptcha\\recaptcha-factory\\tractor_2022-10-04_23-14-27.png\n"
          ]
        },
        {
          "name": "stderr",
          "output_type": "stream",
          "text": [
            "0: 800x800 (no detections), 439.0ms\n",
            "Speed: 1.0ms preprocess, 439.0ms inference, 1.0ms postprocess per image at shape (1, 3, 800, 800)\n",
            "\n"
          ]
        },
        {
          "name": "stdout",
          "output_type": "stream",
          "text": [
            "C:\\gyb_users\\collection\\recaptcha\\recaptcha-factory\\tractor_2022-10-05_09-17-23.png\n"
          ]
        },
        {
          "name": "stderr",
          "output_type": "stream",
          "text": [
            "0: 800x800 (no detections), 452.0ms\n",
            "Speed: 1.0ms preprocess, 452.0ms inference, 0.0ms postprocess per image at shape (1, 3, 800, 800)\n",
            "\n"
          ]
        },
        {
          "name": "stdout",
          "output_type": "stream",
          "text": [
            "C:\\gyb_users\\collection\\recaptcha\\recaptcha-factory\\tractor_2022-10-05_10-59-56.png\n"
          ]
        },
        {
          "name": "stderr",
          "output_type": "stream",
          "text": [
            "0: 800x800 3 tractors, 459.0ms\n",
            "Speed: 1.0ms preprocess, 459.0ms inference, 1.0ms postprocess per image at shape (1, 3, 800, 800)\n",
            "\n"
          ]
        },
        {
          "name": "stdout",
          "output_type": "stream",
          "text": [
            "C:\\gyb_users\\collection\\recaptcha\\recaptcha-factory\\tractor_2022-10-05_12-08-27.png\n"
          ]
        },
        {
          "name": "stderr",
          "output_type": "stream",
          "text": [
            "0: 800x800 3 tractors, 436.0ms\n",
            "Speed: 2.0ms preprocess, 436.0ms inference, 1.0ms postprocess per image at shape (1, 3, 800, 800)\n",
            "\n"
          ]
        },
        {
          "name": "stdout",
          "output_type": "stream",
          "text": [
            "C:\\gyb_users\\collection\\recaptcha\\recaptcha-factory\\tractor_2022-10-05_14-36-10.png\n"
          ]
        },
        {
          "name": "stderr",
          "output_type": "stream",
          "text": [
            "0: 800x800 1 tractor, 441.0ms\n",
            "Speed: 1.0ms preprocess, 441.0ms inference, 1.0ms postprocess per image at shape (1, 3, 800, 800)\n",
            "\n"
          ]
        },
        {
          "name": "stdout",
          "output_type": "stream",
          "text": [
            "C:\\gyb_users\\collection\\recaptcha\\recaptcha-factory\\tractor_2022-10-05_16-08-11.png\n"
          ]
        },
        {
          "name": "stderr",
          "output_type": "stream",
          "text": [
            "0: 800x800 2 palmtrees, 3 tractors, 464.0ms\n",
            "Speed: 2.0ms preprocess, 464.0ms inference, 1.0ms postprocess per image at shape (1, 3, 800, 800)\n",
            "\n"
          ]
        },
        {
          "name": "stdout",
          "output_type": "stream",
          "text": [
            "C:\\gyb_users\\collection\\recaptcha\\recaptcha-factory\\tractor_2022-10-05_22-04-32.png\n"
          ]
        },
        {
          "name": "stderr",
          "output_type": "stream",
          "text": [
            "0: 800x800 1 palmtree, 3 tractors, 449.0ms\n",
            "Speed: 1.0ms preprocess, 449.0ms inference, 1.0ms postprocess per image at shape (1, 3, 800, 800)\n",
            "\n"
          ]
        },
        {
          "name": "stdout",
          "output_type": "stream",
          "text": [
            "C:\\gyb_users\\collection\\recaptcha\\recaptcha-factory\\tractor_2022-10-05_23-23-50.png\n"
          ]
        },
        {
          "name": "stderr",
          "output_type": "stream",
          "text": [
            "0: 800x800 5 tractors, 469.0ms\n",
            "Speed: 1.0ms preprocess, 469.0ms inference, 1.0ms postprocess per image at shape (1, 3, 800, 800)\n",
            "\n"
          ]
        },
        {
          "name": "stdout",
          "output_type": "stream",
          "text": [
            "C:\\gyb_users\\collection\\recaptcha\\recaptcha-factory\\tractor_2022-10-06_00-25-12.png\n"
          ]
        },
        {
          "name": "stderr",
          "output_type": "stream",
          "text": [
            "0: 800x800 3 tractors, 480.0ms\n",
            "Speed: 2.0ms preprocess, 480.0ms inference, 1.0ms postprocess per image at shape (1, 3, 800, 800)\n",
            "\n"
          ]
        },
        {
          "name": "stdout",
          "output_type": "stream",
          "text": [
            "C:\\gyb_users\\collection\\recaptcha\\recaptcha-factory\\tractor_2022-10-06_01-51-27.png\n"
          ]
        },
        {
          "name": "stderr",
          "output_type": "stream",
          "text": [
            "0: 800x800 1 pedestrian crossing, 2 tractors, 442.0ms\n",
            "Speed: 1.0ms preprocess, 442.0ms inference, 1.0ms postprocess per image at shape (1, 3, 800, 800)\n",
            "\n"
          ]
        },
        {
          "name": "stdout",
          "output_type": "stream",
          "text": [
            "C:\\gyb_users\\collection\\recaptcha\\recaptcha-factory\\tractor_2022-10-06_02-38-21.png\n"
          ]
        },
        {
          "name": "stderr",
          "output_type": "stream",
          "text": [
            "0: 800x800 1 palmtree, 3 tractors, 435.0ms\n",
            "Speed: 1.0ms preprocess, 435.0ms inference, 1.0ms postprocess per image at shape (1, 3, 800, 800)\n",
            "\n"
          ]
        },
        {
          "name": "stdout",
          "output_type": "stream",
          "text": [
            "C:\\gyb_users\\collection\\recaptcha\\recaptcha-factory\\tractor_2022-10-06_04-03-22.png\n"
          ]
        },
        {
          "name": "stderr",
          "output_type": "stream",
          "text": [
            "0: 800x800 3 tractors, 482.0ms\n",
            "Speed: 11.0ms preprocess, 482.0ms inference, 1.0ms postprocess per image at shape (1, 3, 800, 800)\n",
            "\n"
          ]
        },
        {
          "name": "stdout",
          "output_type": "stream",
          "text": [
            "C:\\gyb_users\\collection\\recaptcha\\recaptcha-factory\\tractor_2022-10-06_06-15-09.png\n"
          ]
        },
        {
          "name": "stderr",
          "output_type": "stream",
          "text": [
            "0: 800x800 (no detections), 422.0ms\n",
            "Speed: 2.0ms preprocess, 422.0ms inference, 1.0ms postprocess per image at shape (1, 3, 800, 800)\n",
            "\n"
          ]
        },
        {
          "name": "stdout",
          "output_type": "stream",
          "text": [
            "C:\\gyb_users\\collection\\recaptcha\\recaptcha-factory\\tractor_2022-10-06_10-56-24.png\n"
          ]
        },
        {
          "name": "stderr",
          "output_type": "stream",
          "text": [
            "0: 800x800 1 pedestrian crossing, 3 tractors, 430.0ms\n",
            "Speed: 1.0ms preprocess, 430.0ms inference, 1.0ms postprocess per image at shape (1, 3, 800, 800)\n",
            "\n"
          ]
        },
        {
          "name": "stdout",
          "output_type": "stream",
          "text": [
            "C:\\gyb_users\\collection\\recaptcha\\recaptcha-factory\\tractor_2022-10-06_13-14-59.png\n"
          ]
        },
        {
          "name": "stderr",
          "output_type": "stream",
          "text": [
            "0: 800x800 2 pedestrian crossings, 2 tractors, 428.0ms\n",
            "Speed: 2.0ms preprocess, 428.0ms inference, 1.0ms postprocess per image at shape (1, 3, 800, 800)\n",
            "\n"
          ]
        },
        {
          "name": "stdout",
          "output_type": "stream",
          "text": [
            "C:\\gyb_users\\collection\\recaptcha\\recaptcha-factory\\tractor_2022-10-06_18-29-27.png\n"
          ]
        },
        {
          "name": "stderr",
          "output_type": "stream",
          "text": [
            "0: 800x800 1 pedestrian crossing, 3 tractors, 479.0ms\n",
            "Speed: 1.0ms preprocess, 479.0ms inference, 1.0ms postprocess per image at shape (1, 3, 800, 800)\n",
            "\n"
          ]
        },
        {
          "name": "stdout",
          "output_type": "stream",
          "text": [
            "C:\\gyb_users\\collection\\recaptcha\\recaptcha-factory\\tractor_2022-10-07_00-21-27.png\n"
          ]
        },
        {
          "name": "stderr",
          "output_type": "stream",
          "text": [
            "0: 800x800 5 tractors, 461.0ms\n",
            "Speed: 2.0ms preprocess, 461.0ms inference, 2.0ms postprocess per image at shape (1, 3, 800, 800)\n",
            "\n"
          ]
        },
        {
          "name": "stdout",
          "output_type": "stream",
          "text": [
            "C:\\gyb_users\\collection\\recaptcha\\recaptcha-factory\\tractor_2022-10-07_00-21-58.png\n"
          ]
        },
        {
          "name": "stderr",
          "output_type": "stream",
          "text": [
            "0: 800x800 3 tractors, 483.0ms\n",
            "Speed: 2.0ms preprocess, 483.0ms inference, 1.0ms postprocess per image at shape (1, 3, 800, 800)\n",
            "\n"
          ]
        },
        {
          "name": "stdout",
          "output_type": "stream",
          "text": [
            "C:\\gyb_users\\collection\\recaptcha\\recaptcha-factory\\tractor_2022-10-07_02-19-58.png\n"
          ]
        },
        {
          "name": "stderr",
          "output_type": "stream",
          "text": [
            "0: 800x800 (no detections), 455.0ms\n",
            "Speed: 2.0ms preprocess, 455.0ms inference, 0.0ms postprocess per image at shape (1, 3, 800, 800)\n",
            "\n"
          ]
        },
        {
          "name": "stdout",
          "output_type": "stream",
          "text": [
            "C:\\gyb_users\\collection\\recaptcha\\recaptcha-factory\\tractor_2022-10-07_05-19-14.png\n"
          ]
        },
        {
          "name": "stderr",
          "output_type": "stream",
          "text": [
            "0: 800x800 2 palmtrees, 3 tractors, 491.0ms\n",
            "Speed: 2.0ms preprocess, 491.0ms inference, 1.0ms postprocess per image at shape (1, 3, 800, 800)\n",
            "\n"
          ]
        },
        {
          "name": "stdout",
          "output_type": "stream",
          "text": [
            "C:\\gyb_users\\collection\\recaptcha\\recaptcha-factory\\tractor_2022-10-07_07-08-14.png\n"
          ]
        },
        {
          "name": "stderr",
          "output_type": "stream",
          "text": [
            "0: 800x800 1 pedestrian crossing, 3 tractors, 524.0ms\n",
            "Speed: 2.0ms preprocess, 524.0ms inference, 1.0ms postprocess per image at shape (1, 3, 800, 800)\n",
            "\n"
          ]
        },
        {
          "name": "stdout",
          "output_type": "stream",
          "text": [
            "C:\\gyb_users\\collection\\recaptcha\\recaptcha-factory\\tractor_2022-10-07_08-36-01.png\n"
          ]
        },
        {
          "name": "stderr",
          "output_type": "stream",
          "text": [
            "0: 800x800 1 palmtree, 1 pedestrian crossing, 3 tractors, 516.0ms\n",
            "Speed: 1.0ms preprocess, 516.0ms inference, 1.0ms postprocess per image at shape (1, 3, 800, 800)\n",
            "\n"
          ]
        },
        {
          "name": "stdout",
          "output_type": "stream",
          "text": [
            "C:\\gyb_users\\collection\\recaptcha\\recaptcha-factory\\tractor_2022-10-07_08-48-44.png\n"
          ]
        },
        {
          "name": "stderr",
          "output_type": "stream",
          "text": [
            "0: 800x800 1 pedestrian crossing, 3 tractors, 549.0ms\n",
            "Speed: 6.0ms preprocess, 549.0ms inference, 1.0ms postprocess per image at shape (1, 3, 800, 800)\n",
            "\n"
          ]
        },
        {
          "name": "stdout",
          "output_type": "stream",
          "text": [
            "C:\\gyb_users\\collection\\recaptcha\\recaptcha-factory\\tractor_2022-10-07_08-49-03.png\n"
          ]
        },
        {
          "name": "stderr",
          "output_type": "stream",
          "text": [
            "0: 800x800 4 tractors, 471.0ms\n",
            "Speed: 1.0ms preprocess, 471.0ms inference, 1.0ms postprocess per image at shape (1, 3, 800, 800)\n",
            "\n"
          ]
        },
        {
          "name": "stdout",
          "output_type": "stream",
          "text": [
            "C:\\gyb_users\\collection\\recaptcha\\recaptcha-factory\\tractor_2022-10-07_09-00-05.png\n"
          ]
        },
        {
          "name": "stderr",
          "output_type": "stream",
          "text": [
            "0: 800x800 2 tractors, 522.0ms\n",
            "Speed: 2.0ms preprocess, 522.0ms inference, 1.0ms postprocess per image at shape (1, 3, 800, 800)\n",
            "\n"
          ]
        },
        {
          "name": "stdout",
          "output_type": "stream",
          "text": [
            "C:\\gyb_users\\collection\\recaptcha\\recaptcha-factory\\tractor_2022-10-07_09-31-34.png\n"
          ]
        },
        {
          "name": "stderr",
          "output_type": "stream",
          "text": [
            "0: 800x800 1 palmtree, 3 tractors, 546.0ms\n",
            "Speed: 1.0ms preprocess, 546.0ms inference, 1.0ms postprocess per image at shape (1, 3, 800, 800)\n",
            "\n"
          ]
        },
        {
          "name": "stdout",
          "output_type": "stream",
          "text": [
            "C:\\gyb_users\\collection\\recaptcha\\recaptcha-factory\\tractor_2022-10-07_09-40-35.png\n"
          ]
        },
        {
          "name": "stderr",
          "output_type": "stream",
          "text": [
            "0: 800x800 4 tractors, 522.0ms\n",
            "Speed: 1.0ms preprocess, 522.0ms inference, 2.0ms postprocess per image at shape (1, 3, 800, 800)\n",
            "\n"
          ]
        },
        {
          "name": "stdout",
          "output_type": "stream",
          "text": [
            "C:\\gyb_users\\collection\\recaptcha\\recaptcha-factory\\tractor_2022-10-07_10-55-55.png\n"
          ]
        },
        {
          "name": "stderr",
          "output_type": "stream",
          "text": [
            "0: 800x800 1 palmtree, 1 pedestrian crossing, 3 tractors, 508.0ms\n",
            "Speed: 1.0ms preprocess, 508.0ms inference, 2.0ms postprocess per image at shape (1, 3, 800, 800)\n",
            "\n"
          ]
        },
        {
          "name": "stdout",
          "output_type": "stream",
          "text": [
            "C:\\gyb_users\\collection\\recaptcha\\recaptcha-factory\\tractor_2022-10-07_13-12-24.png\n"
          ]
        },
        {
          "name": "stderr",
          "output_type": "stream",
          "text": [
            "0: 800x800 1 stairs, 4 tractors, 465.0ms\n",
            "Speed: 1.0ms preprocess, 465.0ms inference, 1.0ms postprocess per image at shape (1, 3, 800, 800)\n",
            "\n"
          ]
        },
        {
          "name": "stdout",
          "output_type": "stream",
          "text": [
            "C:\\gyb_users\\collection\\recaptcha\\recaptcha-factory\\tractor_2022-10-07_23-52-32.png\n"
          ]
        },
        {
          "name": "stderr",
          "output_type": "stream",
          "text": [
            "0: 800x800 3 tractors, 432.0ms\n",
            "Speed: 1.0ms preprocess, 432.0ms inference, 1.0ms postprocess per image at shape (1, 3, 800, 800)\n",
            "\n"
          ]
        },
        {
          "name": "stdout",
          "output_type": "stream",
          "text": [
            "C:\\gyb_users\\collection\\recaptcha\\recaptcha-factory\\tractor_2022-10-08_15-44-19.png\n"
          ]
        },
        {
          "name": "stderr",
          "output_type": "stream",
          "text": [
            "0: 800x800 1 palmtree, 3 tractors, 455.0ms\n",
            "Speed: 1.0ms preprocess, 455.0ms inference, 1.0ms postprocess per image at shape (1, 3, 800, 800)\n",
            "\n"
          ]
        },
        {
          "name": "stdout",
          "output_type": "stream",
          "text": [
            "C:\\gyb_users\\collection\\recaptcha\\recaptcha-factory\\tractor_2022-10-09_02-54-18.png\n"
          ]
        },
        {
          "name": "stderr",
          "output_type": "stream",
          "text": [
            "0: 800x800 6 palmtrees, 2 tractors, 466.0ms\n",
            "Speed: 2.0ms preprocess, 466.0ms inference, 2.0ms postprocess per image at shape (1, 3, 800, 800)\n",
            "\n"
          ]
        },
        {
          "name": "stdout",
          "output_type": "stream",
          "text": [
            "C:\\gyb_users\\collection\\recaptcha\\recaptcha-factory\\tractor_2022-10-09_03-40-09.png\n"
          ]
        },
        {
          "name": "stderr",
          "output_type": "stream",
          "text": [
            "0: 800x800 2 palmtrees, 4 tractors, 415.0ms\n",
            "Speed: 2.0ms preprocess, 415.0ms inference, 1.0ms postprocess per image at shape (1, 3, 800, 800)\n",
            "\n"
          ]
        },
        {
          "name": "stdout",
          "output_type": "stream",
          "text": [
            "C:\\gyb_users\\collection\\recaptcha\\recaptcha-factory\\tractor_2022-10-09_08-16-52.png\n"
          ]
        },
        {
          "name": "stderr",
          "output_type": "stream",
          "text": [
            "0: 800x800 (no detections), 439.0ms\n",
            "Speed: 2.0ms preprocess, 439.0ms inference, 1.0ms postprocess per image at shape (1, 3, 800, 800)\n",
            "\n"
          ]
        },
        {
          "name": "stdout",
          "output_type": "stream",
          "text": [
            "C:\\gyb_users\\collection\\recaptcha\\recaptcha-factory\\tractor_2022-10-09_08-34-56.png\n"
          ]
        },
        {
          "name": "stderr",
          "output_type": "stream",
          "text": [
            "0: 800x800 1 pedestrian crossing, 2 tractors, 433.0ms\n",
            "Speed: 1.0ms preprocess, 433.0ms inference, 2.0ms postprocess per image at shape (1, 3, 800, 800)\n",
            "\n"
          ]
        },
        {
          "name": "stdout",
          "output_type": "stream",
          "text": [
            "C:\\gyb_users\\collection\\recaptcha\\recaptcha-factory\\tractor_2022-10-09_11-07-25.png\n"
          ]
        },
        {
          "name": "stderr",
          "output_type": "stream",
          "text": [
            "0: 800x800 (no detections), 463.0ms\n",
            "Speed: 1.0ms preprocess, 463.0ms inference, 1.0ms postprocess per image at shape (1, 3, 800, 800)\n",
            "\n"
          ]
        },
        {
          "name": "stdout",
          "output_type": "stream",
          "text": [
            "C:\\gyb_users\\collection\\recaptcha\\recaptcha-factory\\tractor_2022-10-09_11-25-40.png\n"
          ]
        },
        {
          "name": "stderr",
          "output_type": "stream",
          "text": [
            "0: 800x800 1 pedestrian crossing, 2 tractors, 450.0ms\n",
            "Speed: 1.0ms preprocess, 450.0ms inference, 1.0ms postprocess per image at shape (1, 3, 800, 800)\n",
            "\n"
          ]
        },
        {
          "name": "stdout",
          "output_type": "stream",
          "text": [
            "C:\\gyb_users\\collection\\recaptcha\\recaptcha-factory\\tractor_2022-10-09_13-00-38.png\n"
          ]
        },
        {
          "name": "stderr",
          "output_type": "stream",
          "text": [
            "0: 800x800 2 palmtrees, 1 pedestrian crossing, 5 tractors, 451.0ms\n",
            "Speed: 2.0ms preprocess, 451.0ms inference, 1.0ms postprocess per image at shape (1, 3, 800, 800)\n",
            "\n"
          ]
        },
        {
          "name": "stdout",
          "output_type": "stream",
          "text": [
            "C:\\gyb_users\\collection\\recaptcha\\recaptcha-factory\\tractor_2022-10-09_16-15-43.png\n"
          ]
        },
        {
          "name": "stderr",
          "output_type": "stream",
          "text": [
            "0: 800x800 1 chimney, 3 tractors, 468.0ms\n",
            "Speed: 2.0ms preprocess, 468.0ms inference, 1.0ms postprocess per image at shape (1, 3, 800, 800)\n",
            "\n"
          ]
        },
        {
          "name": "stdout",
          "output_type": "stream",
          "text": [
            "C:\\gyb_users\\collection\\recaptcha\\recaptcha-factory\\tractor_2022-10-09_18-26-43.png\n"
          ]
        },
        {
          "name": "stderr",
          "output_type": "stream",
          "text": [
            "0: 800x800 2 stairss, 3 tractors, 480.0ms\n",
            "Speed: 1.0ms preprocess, 480.0ms inference, 1.0ms postprocess per image at shape (1, 3, 800, 800)\n",
            "\n"
          ]
        },
        {
          "name": "stdout",
          "output_type": "stream",
          "text": [
            "C:\\gyb_users\\collection\\recaptcha\\recaptcha-factory\\tractor_2022-10-10_01-39-54.png\n"
          ]
        },
        {
          "name": "stderr",
          "output_type": "stream",
          "text": [
            "0: 800x800 (no detections), 466.0ms\n",
            "Speed: 1.0ms preprocess, 466.0ms inference, 0.0ms postprocess per image at shape (1, 3, 800, 800)\n",
            "\n"
          ]
        },
        {
          "name": "stdout",
          "output_type": "stream",
          "text": [
            "C:\\gyb_users\\collection\\recaptcha\\recaptcha-factory\\tractor_2022-10-10_08-52-34.png\n"
          ]
        },
        {
          "name": "stderr",
          "output_type": "stream",
          "text": [
            "0: 800x800 3 tractors, 441.0ms\n",
            "Speed: 1.0ms preprocess, 441.0ms inference, 1.0ms postprocess per image at shape (1, 3, 800, 800)\n",
            "\n"
          ]
        },
        {
          "name": "stdout",
          "output_type": "stream",
          "text": [
            "C:\\gyb_users\\collection\\recaptcha\\recaptcha-factory\\tractor_2022-10-10_11-20-21.png\n"
          ]
        },
        {
          "name": "stderr",
          "output_type": "stream",
          "text": [
            "0: 800x800 1 palmtree, 1 stairs, 3 tractors, 441.0ms\n",
            "Speed: 1.0ms preprocess, 441.0ms inference, 1.0ms postprocess per image at shape (1, 3, 800, 800)\n",
            "\n"
          ]
        },
        {
          "name": "stdout",
          "output_type": "stream",
          "text": [
            "C:\\gyb_users\\collection\\recaptcha\\recaptcha-factory\\tractor_2022-10-10_11-51-01.png\n"
          ]
        },
        {
          "name": "stderr",
          "output_type": "stream",
          "text": [
            "0: 800x800 6 tractors, 451.0ms\n",
            "Speed: 2.0ms preprocess, 451.0ms inference, 1.0ms postprocess per image at shape (1, 3, 800, 800)\n",
            "\n"
          ]
        },
        {
          "name": "stdout",
          "output_type": "stream",
          "text": [
            "C:\\gyb_users\\collection\\recaptcha\\recaptcha-factory\\tractor_2022-10-10_11-51-03.png\n"
          ]
        },
        {
          "name": "stderr",
          "output_type": "stream",
          "text": [
            "0: 800x800 1 palmtree, 1 pedestrian crossing, 3 tractors, 431.0ms\n",
            "Speed: 1.0ms preprocess, 431.0ms inference, 1.0ms postprocess per image at shape (1, 3, 800, 800)\n",
            "\n"
          ]
        },
        {
          "name": "stdout",
          "output_type": "stream",
          "text": [
            "C:\\gyb_users\\collection\\recaptcha\\recaptcha-factory\\tractor_2022-10-10_12-47-49.png\n"
          ]
        },
        {
          "name": "stderr",
          "output_type": "stream",
          "text": [
            "0: 800x800 4 tractors, 447.0ms\n",
            "Speed: 1.0ms preprocess, 447.0ms inference, 1.0ms postprocess per image at shape (1, 3, 800, 800)\n",
            "\n"
          ]
        },
        {
          "name": "stdout",
          "output_type": "stream",
          "text": [
            "C:\\gyb_users\\collection\\recaptcha\\recaptcha-factory\\tractor_2022-10-10_20-14-47.png\n"
          ]
        },
        {
          "name": "stderr",
          "output_type": "stream",
          "text": [
            "0: 800x800 2 tractors, 477.0ms\n",
            "Speed: 1.0ms preprocess, 477.0ms inference, 1.0ms postprocess per image at shape (1, 3, 800, 800)\n",
            "\n"
          ]
        },
        {
          "name": "stdout",
          "output_type": "stream",
          "text": [
            "C:\\gyb_users\\collection\\recaptcha\\recaptcha-factory\\tractor_2022-10-10_20-37-19.png\n"
          ]
        },
        {
          "name": "stderr",
          "output_type": "stream",
          "text": [
            "0: 800x800 3 palmtrees, 2 tractors, 480.0ms\n",
            "Speed: 2.0ms preprocess, 480.0ms inference, 2.0ms postprocess per image at shape (1, 3, 800, 800)\n",
            "\n"
          ]
        },
        {
          "name": "stdout",
          "output_type": "stream",
          "text": [
            "C:\\gyb_users\\collection\\recaptcha\\recaptcha-factory\\tractor_2022-10-11_02-34-28.png\n"
          ]
        },
        {
          "name": "stderr",
          "output_type": "stream",
          "text": [
            "0: 800x800 1 chimney, 3 palmtrees, 1 pedestrian crossing, 3 tractors, 468.0ms\n",
            "Speed: 2.0ms preprocess, 468.0ms inference, 1.0ms postprocess per image at shape (1, 3, 800, 800)\n",
            "\n"
          ]
        },
        {
          "name": "stdout",
          "output_type": "stream",
          "text": [
            "C:\\gyb_users\\collection\\recaptcha\\recaptcha-factory\\tractor_2022-10-11_04-25-57.png\n"
          ]
        },
        {
          "name": "stderr",
          "output_type": "stream",
          "text": [
            "0: 800x800 3 tractors, 450.0ms\n",
            "Speed: 1.0ms preprocess, 450.0ms inference, 1.0ms postprocess per image at shape (1, 3, 800, 800)\n",
            "\n"
          ]
        },
        {
          "name": "stdout",
          "output_type": "stream",
          "text": [
            "C:\\gyb_users\\collection\\recaptcha\\recaptcha-factory\\tractor_2022-10-11_05-33-16.png\n"
          ]
        },
        {
          "name": "stderr",
          "output_type": "stream",
          "text": [
            "0: 800x800 1 pedestrian crossing, 3 tractors, 434.0ms\n",
            "Speed: 2.0ms preprocess, 434.0ms inference, 2.0ms postprocess per image at shape (1, 3, 800, 800)\n",
            "\n"
          ]
        },
        {
          "name": "stdout",
          "output_type": "stream",
          "text": [
            "C:\\gyb_users\\collection\\recaptcha\\recaptcha-factory\\tractor_2022-10-11_10-57-32.png\n"
          ]
        },
        {
          "name": "stderr",
          "output_type": "stream",
          "text": [
            "0: 800x800 2 tractors, 474.0ms\n",
            "Speed: 2.0ms preprocess, 474.0ms inference, 2.0ms postprocess per image at shape (1, 3, 800, 800)\n",
            "\n"
          ]
        },
        {
          "name": "stdout",
          "output_type": "stream",
          "text": [
            "C:\\gyb_users\\collection\\recaptcha\\recaptcha-factory\\tractor_2022-10-11_14-42-24.png\n"
          ]
        },
        {
          "name": "stderr",
          "output_type": "stream",
          "text": [
            "0: 800x800 5 tractors, 433.0ms\n",
            "Speed: 2.0ms preprocess, 433.0ms inference, 1.0ms postprocess per image at shape (1, 3, 800, 800)\n",
            "\n"
          ]
        },
        {
          "name": "stdout",
          "output_type": "stream",
          "text": [
            "C:\\gyb_users\\collection\\recaptcha\\recaptcha-factory\\tractor_2022-10-11_17-57-11.png\n"
          ]
        },
        {
          "name": "stderr",
          "output_type": "stream",
          "text": [
            "0: 800x800 1 palmtree, 1 pedestrian crossing, 3 tractors, 438.0ms\n",
            "Speed: 1.0ms preprocess, 438.0ms inference, 1.0ms postprocess per image at shape (1, 3, 800, 800)\n",
            "\n"
          ]
        },
        {
          "name": "stdout",
          "output_type": "stream",
          "text": [
            "C:\\gyb_users\\collection\\recaptcha\\recaptcha-factory\\tractor_2022-10-12_10-33-13.png\n"
          ]
        },
        {
          "name": "stderr",
          "output_type": "stream",
          "text": [
            "0: 800x800 2 pedestrian crossings, 3 tractors, 453.0ms\n",
            "Speed: 2.0ms preprocess, 453.0ms inference, 1.0ms postprocess per image at shape (1, 3, 800, 800)\n",
            "\n"
          ]
        },
        {
          "name": "stdout",
          "output_type": "stream",
          "text": [
            "C:\\gyb_users\\collection\\recaptcha\\recaptcha-factory\\tractor_2022-10-12_11-27-02.png\n"
          ]
        },
        {
          "name": "stderr",
          "output_type": "stream",
          "text": [
            "0: 800x800 1 pedestrian crossing, 488.0ms\n",
            "Speed: 1.0ms preprocess, 488.0ms inference, 1.0ms postprocess per image at shape (1, 3, 800, 800)\n",
            "\n"
          ]
        },
        {
          "name": "stdout",
          "output_type": "stream",
          "text": [
            "C:\\gyb_users\\collection\\recaptcha\\recaptcha-factory\\tractor_2022-10-12_14-57-52.png\n"
          ]
        },
        {
          "name": "stderr",
          "output_type": "stream",
          "text": [
            "0: 800x800 4 tractors, 463.0ms\n",
            "Speed: 2.0ms preprocess, 463.0ms inference, 1.0ms postprocess per image at shape (1, 3, 800, 800)\n",
            "\n"
          ]
        },
        {
          "name": "stdout",
          "output_type": "stream",
          "text": [
            "C:\\gyb_users\\collection\\recaptcha\\recaptcha-factory\\tractor_2022-10-12_16-32-46.png\n"
          ]
        },
        {
          "name": "stderr",
          "output_type": "stream",
          "text": [
            "0: 800x800 1 pedestrian crossing, 461.0ms\n",
            "Speed: 1.0ms preprocess, 461.0ms inference, 1.0ms postprocess per image at shape (1, 3, 800, 800)\n",
            "\n"
          ]
        },
        {
          "name": "stdout",
          "output_type": "stream",
          "text": [
            "C:\\gyb_users\\collection\\recaptcha\\recaptcha-factory\\tractor_2022-10-12_17-44-33.png\n"
          ]
        },
        {
          "name": "stderr",
          "output_type": "stream",
          "text": [
            "0: 800x800 (no detections), 456.0ms\n",
            "Speed: 2.0ms preprocess, 456.0ms inference, 1.0ms postprocess per image at shape (1, 3, 800, 800)\n",
            "\n"
          ]
        },
        {
          "name": "stdout",
          "output_type": "stream",
          "text": [
            "C:\\gyb_users\\collection\\recaptcha\\recaptcha-factory\\tractor_2022-10-13_05-02-51.png\n"
          ]
        },
        {
          "name": "stderr",
          "output_type": "stream",
          "text": [
            "0: 800x800 (no detections), 490.0ms\n",
            "Speed: 2.0ms preprocess, 490.0ms inference, 1.0ms postprocess per image at shape (1, 3, 800, 800)\n",
            "\n"
          ]
        },
        {
          "name": "stdout",
          "output_type": "stream",
          "text": [
            "C:\\gyb_users\\collection\\recaptcha\\recaptcha-factory\\tractor_2022-10-13_05-28-36.png\n"
          ]
        },
        {
          "name": "stderr",
          "output_type": "stream",
          "text": [
            "0: 800x800 1 palmtree, 462.0ms\n",
            "Speed: 2.0ms preprocess, 462.0ms inference, 1.0ms postprocess per image at shape (1, 3, 800, 800)\n",
            "\n"
          ]
        },
        {
          "name": "stdout",
          "output_type": "stream",
          "text": [
            "C:\\gyb_users\\collection\\recaptcha\\recaptcha-factory\\tractor_2022-10-13_06-30-30.png\n"
          ]
        },
        {
          "name": "stderr",
          "output_type": "stream",
          "text": [
            "0: 800x800 (no detections), 485.0ms\n",
            "Speed: 2.0ms preprocess, 485.0ms inference, 0.0ms postprocess per image at shape (1, 3, 800, 800)\n",
            "\n"
          ]
        },
        {
          "name": "stdout",
          "output_type": "stream",
          "text": [
            "C:\\gyb_users\\collection\\recaptcha\\recaptcha-factory\\tractor_2022-10-13_06-53-00.png\n"
          ]
        },
        {
          "name": "stderr",
          "output_type": "stream",
          "text": [
            "0: 800x800 1 chimney, 458.0ms\n",
            "Speed: 3.0ms preprocess, 458.0ms inference, 2.0ms postprocess per image at shape (1, 3, 800, 800)\n",
            "\n"
          ]
        },
        {
          "name": "stdout",
          "output_type": "stream",
          "text": [
            "C:\\gyb_users\\collection\\recaptcha\\recaptcha-factory\\tractor_2022-10-13_07-12-48.png\n"
          ]
        },
        {
          "name": "stderr",
          "output_type": "stream",
          "text": [
            "0: 800x800 2 pedestrian crossings, 469.0ms\n",
            "Speed: 1.0ms preprocess, 469.0ms inference, 1.0ms postprocess per image at shape (1, 3, 800, 800)\n",
            "\n"
          ]
        },
        {
          "name": "stdout",
          "output_type": "stream",
          "text": [
            "C:\\gyb_users\\collection\\recaptcha\\recaptcha-factory\\tractor_2022-10-13_10-31-33.png\n"
          ]
        },
        {
          "name": "stderr",
          "output_type": "stream",
          "text": [
            "0: 800x800 1 pedestrian crossing, 462.0ms\n",
            "Speed: 1.0ms preprocess, 462.0ms inference, 1.0ms postprocess per image at shape (1, 3, 800, 800)\n",
            "\n"
          ]
        },
        {
          "name": "stdout",
          "output_type": "stream",
          "text": [
            "C:\\gyb_users\\collection\\recaptcha\\recaptcha-factory\\tractor_2022-10-13_12-53-39.png\n"
          ]
        },
        {
          "name": "stderr",
          "output_type": "stream",
          "text": [
            "0: 800x800 (no detections), 448.0ms\n",
            "Speed: 1.0ms preprocess, 448.0ms inference, 0.0ms postprocess per image at shape (1, 3, 800, 800)\n",
            "\n"
          ]
        },
        {
          "name": "stdout",
          "output_type": "stream",
          "text": [
            "C:\\gyb_users\\collection\\recaptcha\\recaptcha-factory\\tractor_2022-10-13_13-08-47.png\n"
          ]
        },
        {
          "name": "stderr",
          "output_type": "stream",
          "text": [
            "0: 800x800 (no detections), 435.0ms\n",
            "Speed: 2.0ms preprocess, 435.0ms inference, 1.0ms postprocess per image at shape (1, 3, 800, 800)\n",
            "\n"
          ]
        },
        {
          "name": "stdout",
          "output_type": "stream",
          "text": [
            "C:\\gyb_users\\collection\\recaptcha\\recaptcha-factory\\tractor_2022-10-13_13-35-08.png\n"
          ]
        },
        {
          "name": "stderr",
          "output_type": "stream",
          "text": [
            "0: 800x800 2 tractors, 467.0ms\n",
            "Speed: 2.0ms preprocess, 467.0ms inference, 1.0ms postprocess per image at shape (1, 3, 800, 800)\n",
            "\n"
          ]
        },
        {
          "name": "stdout",
          "output_type": "stream",
          "text": [
            "C:\\gyb_users\\collection\\recaptcha\\recaptcha-factory\\tractor_2022-10-13_22-17-55.png\n"
          ]
        },
        {
          "name": "stderr",
          "output_type": "stream",
          "text": [
            "0: 800x800 1 pedestrian crossing, 474.0ms\n",
            "Speed: 2.0ms preprocess, 474.0ms inference, 1.0ms postprocess per image at shape (1, 3, 800, 800)\n",
            "\n"
          ]
        },
        {
          "name": "stdout",
          "output_type": "stream",
          "text": [
            "C:\\gyb_users\\collection\\recaptcha\\recaptcha-factory\\tractor_2022-10-13_22-17-57.png\n"
          ]
        },
        {
          "name": "stderr",
          "output_type": "stream",
          "text": [
            "0: 800x800 1 pedestrian crossing, 439.0ms\n",
            "Speed: 2.0ms preprocess, 439.0ms inference, 1.0ms postprocess per image at shape (1, 3, 800, 800)\n",
            "\n"
          ]
        },
        {
          "name": "stdout",
          "output_type": "stream",
          "text": [
            "C:\\gyb_users\\collection\\recaptcha\\recaptcha-factory\\tractor_2022-10-13_23-13-14.png\n"
          ]
        },
        {
          "name": "stderr",
          "output_type": "stream",
          "text": [
            "0: 800x800 (no detections), 416.0ms\n",
            "Speed: 2.0ms preprocess, 416.0ms inference, 1.0ms postprocess per image at shape (1, 3, 800, 800)\n",
            "\n"
          ]
        },
        {
          "name": "stdout",
          "output_type": "stream",
          "text": [
            "C:\\gyb_users\\collection\\recaptcha\\recaptcha-factory\\tractor_2022-10-14_05-03-57.png\n"
          ]
        },
        {
          "name": "stderr",
          "output_type": "stream",
          "text": [
            "0: 800x800 (no detections), 447.0ms\n",
            "Speed: 2.0ms preprocess, 447.0ms inference, 1.0ms postprocess per image at shape (1, 3, 800, 800)\n",
            "\n"
          ]
        },
        {
          "name": "stdout",
          "output_type": "stream",
          "text": [
            "C:\\gyb_users\\collection\\recaptcha\\recaptcha-factory\\tractor_2022-10-14_07-04-00.png\n"
          ]
        },
        {
          "name": "stderr",
          "output_type": "stream",
          "text": [
            "0: 800x800 (no detections), 449.0ms\n",
            "Speed: 2.0ms preprocess, 449.0ms inference, 0.0ms postprocess per image at shape (1, 3, 800, 800)\n",
            "\n"
          ]
        },
        {
          "name": "stdout",
          "output_type": "stream",
          "text": [
            "C:\\gyb_users\\collection\\recaptcha\\recaptcha-factory\\tractor_2022-10-14_08-05-31.png\n"
          ]
        },
        {
          "name": "stderr",
          "output_type": "stream",
          "text": [
            "0: 800x800 (no detections), 440.0ms\n",
            "Speed: 1.0ms preprocess, 440.0ms inference, 1.0ms postprocess per image at shape (1, 3, 800, 800)\n",
            "\n"
          ]
        },
        {
          "name": "stdout",
          "output_type": "stream",
          "text": [
            "C:\\gyb_users\\collection\\recaptcha\\recaptcha-factory\\tractor_2022-10-14_08-50-19.png\n"
          ]
        },
        {
          "name": "stderr",
          "output_type": "stream",
          "text": [
            "0: 800x800 1 palmtree, 2 stairss, 3 tractors, 460.0ms\n",
            "Speed: 1.0ms preprocess, 460.0ms inference, 1.0ms postprocess per image at shape (1, 3, 800, 800)\n",
            "\n"
          ]
        },
        {
          "name": "stdout",
          "output_type": "stream",
          "text": [
            "C:\\gyb_users\\collection\\recaptcha\\recaptcha-factory\\tractor_2022-10-14_13-27-51.png\n"
          ]
        },
        {
          "name": "stderr",
          "output_type": "stream",
          "text": [
            "0: 800x800 (no detections), 454.0ms\n",
            "Speed: 1.0ms preprocess, 454.0ms inference, 1.0ms postprocess per image at shape (1, 3, 800, 800)\n",
            "\n"
          ]
        },
        {
          "name": "stdout",
          "output_type": "stream",
          "text": [
            "C:\\gyb_users\\collection\\recaptcha\\recaptcha-factory\\tractor_2022-10-14_13-35-36.png\n"
          ]
        },
        {
          "name": "stderr",
          "output_type": "stream",
          "text": [
            "0: 800x800 2 stairss, 449.0ms\n",
            "Speed: 1.0ms preprocess, 449.0ms inference, 1.0ms postprocess per image at shape (1, 3, 800, 800)\n",
            "\n"
          ]
        },
        {
          "name": "stdout",
          "output_type": "stream",
          "text": [
            "C:\\gyb_users\\collection\\recaptcha\\recaptcha-factory\\tractor_2022-10-14_14-39-48.png\n"
          ]
        },
        {
          "name": "stderr",
          "output_type": "stream",
          "text": [
            "0: 800x800 (no detections), 419.0ms\n",
            "Speed: 1.0ms preprocess, 419.0ms inference, 1.0ms postprocess per image at shape (1, 3, 800, 800)\n",
            "\n"
          ]
        },
        {
          "name": "stdout",
          "output_type": "stream",
          "text": [
            "C:\\gyb_users\\collection\\recaptcha\\recaptcha-factory\\tractor_2022-10-14_18-57-10.png\n"
          ]
        },
        {
          "name": "stderr",
          "output_type": "stream",
          "text": [
            "0: 800x800 3 tractors, 426.0ms\n",
            "Speed: 2.0ms preprocess, 426.0ms inference, 1.0ms postprocess per image at shape (1, 3, 800, 800)\n",
            "\n"
          ]
        },
        {
          "name": "stdout",
          "output_type": "stream",
          "text": [
            "C:\\gyb_users\\collection\\recaptcha\\recaptcha-factory\\tractor_2022-10-14_19-00-57.png\n"
          ]
        },
        {
          "name": "stderr",
          "output_type": "stream",
          "text": [
            "0: 800x800 3 palmtrees, 3 tractors, 480.0ms\n",
            "Speed: 2.0ms preprocess, 480.0ms inference, 1.0ms postprocess per image at shape (1, 3, 800, 800)\n",
            "\n"
          ]
        },
        {
          "name": "stdout",
          "output_type": "stream",
          "text": [
            "C:\\gyb_users\\collection\\recaptcha\\recaptcha-factory\\tractor_2022-10-14_23-21-14.png\n"
          ]
        },
        {
          "name": "stderr",
          "output_type": "stream",
          "text": [
            "0: 800x800 3 tractors, 455.0ms\n",
            "Speed: 2.0ms preprocess, 455.0ms inference, 1.0ms postprocess per image at shape (1, 3, 800, 800)\n",
            "\n"
          ]
        },
        {
          "name": "stdout",
          "output_type": "stream",
          "text": [
            "C:\\gyb_users\\collection\\recaptcha\\recaptcha-factory\\tractor_2022-10-15_00-02-37.png\n"
          ]
        },
        {
          "name": "stderr",
          "output_type": "stream",
          "text": [
            "0: 800x800 2 palmtrees, 3 tractors, 469.0ms\n",
            "Speed: 1.0ms preprocess, 469.0ms inference, 1.0ms postprocess per image at shape (1, 3, 800, 800)\n",
            "\n"
          ]
        },
        {
          "name": "stdout",
          "output_type": "stream",
          "text": [
            "C:\\gyb_users\\collection\\recaptcha\\recaptcha-factory\\tractor_2022-10-15_02-18-04.png\n"
          ]
        },
        {
          "name": "stderr",
          "output_type": "stream",
          "text": [
            "0: 800x800 (no detections), 445.0ms\n",
            "Speed: 1.0ms preprocess, 445.0ms inference, 0.0ms postprocess per image at shape (1, 3, 800, 800)\n"
          ]
        }
      ],
      "source": [
        "for img_name in img_list:\n",
        "    img_filepath = directory +\"\\\\\"+ img_name\n",
        "    print(img_filepath)\n",
        "    img = cv2.imread(img_filepath)\n",
        "    img_copy = img\n",
        "\n",
        "    # предобработка изображения как перед обучением\n",
        "    # gray = cv2.cvtColor(img, cv2.COLOR_BGR2GRAY)\n",
        "    # gray_three = cv2.merge([gray,gray,gray])\n",
        "    # img = gray_three\n",
        "\n",
        "    # получаем ширину и высоту картинки\n",
        "    h, w, _ = img.shape\n",
        "\n",
        "    # получаем предсказания по картинке\n",
        "    results = model.predict(source=img, conf=0.50)\n",
        "\n",
        "    # расшифровываем объект results\n",
        "    bboxes_ = results[0].boxes.xyxy.tolist()\n",
        "    bboxes = list(map(lambda x: list(map(lambda y: int(y), x)), bboxes_))\n",
        "    confs_ = results[0].boxes.conf.tolist()\n",
        "    confs = list(map(lambda x: int(x*100), confs_))\n",
        "    classes_ = results[0].boxes.cls.tolist()\n",
        "    classes = list(map(lambda x: int(x), classes_))\n",
        "    cls_dict = results[0].names\n",
        "    class_names = list(map(lambda x: cls_dict[x], classes))\n",
        "\n",
        "    # приводим дешифрированные данные в удобный вид\n",
        "    annot_lines = []\n",
        "    for index, val in enumerate(class_names):\n",
        "        xmin, ymin, xmax, ymax = int(bboxes[index][0]), int(bboxes[index][1]), int(bboxes[index][2]), int(bboxes[index][3])\n",
        "        width = xmax - xmin\n",
        "        height = ymax - ymin\n",
        "        center_x = xmin + (width/2)\n",
        "        center_y = ymin + (height/2)\n",
        "        annotation = f\"{classes[index]} {center_x/w} {center_y/h} {width/w} {height/h}\"\n",
        "        annot_lines.append(annotation)\n",
        "\n",
        "    # копируем картинку в папку базы изображений для импорта\n",
        "    cv2.imwrite(os.path.join(train_images_path , img_name), img_copy)\n",
        "\n",
        "    # записываем файл аннотации в папку базы изображений для импорта\n",
        "    txt_name = img_name.replace(\".png\",\".txt\")\n",
        "    with open(f'imgbase/train/labels/{txt_name}', 'w') as f:\n",
        "        for line in annot_lines:\n",
        "            f.write(line)\n",
        "            f.write('\\n')\n",
        "\n",
        "\n",
        "\n"
      ]
    },
    {
      "cell_type": "code",
      "execution_count": null,
      "id": "804aee5e",
      "metadata": {
        "id": "804aee5e"
      },
      "outputs": [],
      "source": []
    }
  ],
  "metadata": {
    "kernelspec": {
      "display_name": "Python 3 (ipykernel)",
      "language": "python",
      "name": "python3"
    },
    "language_info": {
      "codemirror_mode": {
        "name": "ipython",
        "version": 3
      },
      "file_extension": ".py",
      "mimetype": "text/x-python",
      "name": "python",
      "nbconvert_exporter": "python",
      "pygments_lexer": "ipython3",
      "version": "3.10.10"
    },
    "colab": {
      "provenance": [],
      "include_colab_link": true
    }
  },
  "nbformat": 4,
  "nbformat_minor": 5
}