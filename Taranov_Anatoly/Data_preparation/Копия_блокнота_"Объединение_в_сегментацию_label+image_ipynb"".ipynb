{
  "nbformat": 4,
  "nbformat_minor": 0,
  "metadata": {
    "colab": {
      "provenance": [],
      "include_colab_link": true
    },
    "kernelspec": {
      "name": "python3",
      "display_name": "Python 3"
    },
    "language_info": {
      "name": "python"
    }
  },
  "cells": [
    {
      "cell_type": "markdown",
      "metadata": {
        "id": "view-in-github",
        "colab_type": "text"
      },
      "source": [
        "<a href=\"https://colab.research.google.com/github/alecseiterr/safe_city/blob/main/Taranov_Anatoly/Data_preparation/%D0%9A%D0%BE%D0%BF%D0%B8%D1%8F_%D0%B1%D0%BB%D0%BE%D0%BA%D0%BD%D0%BE%D1%82%D0%B0_%22%D0%9E%D0%B1%D1%8A%D0%B5%D0%B4%D0%B8%D0%BD%D0%B5%D0%BD%D0%B8%D0%B5_%D0%B2_%D1%81%D0%B5%D0%B3%D0%BC%D0%B5%D0%BD%D1%82%D0%B0%D1%86%D0%B8%D1%8E_label%2Bimage_ipynb%22%22.ipynb\" target=\"_parent\"><img src=\"https://colab.research.google.com/assets/colab-badge.svg\" alt=\"Open In Colab\"/></a>"
      ]
    },
    {
      "cell_type": "code",
      "execution_count": null,
      "metadata": {
        "id": "To5orYrWq6d9"
      },
      "outputs": [],
      "source": [
        "import os\n",
        "import cv2\n",
        "import numpy as np\n",
        "\n",
        "# Пути к папкам с изображениями и разметкой\n",
        "images_dir = \"images\"\n",
        "labels_dir = \"labels\"\n",
        "output_dir = \"output\"\n",
        "\n",
        "# Создаем папку для сохранения результатов, если она не существует\n",
        "if not os.path.exists(output_dir):\n",
        "    os.makedirs(output_dir)\n",
        "\n",
        "# Получаем список файлов с разметкой в папке \"labels\"\n",
        "label_files = os.listdir(labels_dir)\n",
        "\n",
        "for label_file in label_files:\n",
        "    # Извлекаем имя файла без расширения\n",
        "    base_name = os.path.splitext(label_file)[0]\n",
        "\n",
        "    # Считываем изображение\n",
        "    img_path = os.path.join(images_dir, base_name + \".jpg\")\n",
        "    img = cv2.imread(img_path)\n",
        "\n",
        "    # Считываем разметку из файла .txt\n",
        "    label_path = os.path.join(labels_dir, label_file)\n",
        "    with open(label_path, \"r\") as file:\n",
        "        lines = file.readlines()\n",
        "\n",
        "    mask = np.zeros_like(img, dtype=np.uint8)\n",
        "\n",
        "    for line in lines:\n",
        "        points = line.strip().split()\n",
        "\n",
        "        # Проверяем, что у нас есть хотя бы две координаты\n",
        "        if len(points) >= 4:\n",
        "            # Определяем цвет в зависимости от класса\n",
        "            class_color = (0, 255, 0) if int(points[0]) == 0 else (0, 0, 255)\n",
        "            # Преобразование координат сегментации\n",
        "            points = [(int(float(points[i]) * img.shape[1]), int(float(points[i + 1]) * img.shape[0])) for i in range(1, len(points), 2)]\n",
        "\n",
        "            # Создание маски сегментации\n",
        "            if len(points) > 2:  # Для избежания ошибки при недостаточном количестве точек\n",
        "                pts = np.array(points, np.int32)\n",
        "                pts = pts.reshape((-1, 1, 2))\n",
        "                cv2.fillPoly(mask, [pts], class_color)\n",
        "\n",
        "    # Объединяем изображение с маской\n",
        "    result = cv2.addWeighted(img, 1, mask, 0.5, 0)\n",
        "\n",
        "    # Сохраняем изображение с сегментацией в папку \"output\"\n",
        "    output_path = os.path.join(output_dir, base_name + \".jpg\")\n",
        "    cv2.imwrite(output_path, result)\n",
        "\n",
        "    print(f\"Преобразование завершено для файла: {label_file}\")\n",
        "\n",
        "print(\"Все файлы обработаны.\")\n"
      ]
    }
  ]
}