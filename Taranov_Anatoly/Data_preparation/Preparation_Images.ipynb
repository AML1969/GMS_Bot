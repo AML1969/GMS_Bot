{
  "cells": [
    {
      "cell_type": "markdown",
      "metadata": {
        "id": "view-in-github",
        "colab_type": "text"
      },
      "source": [
        "<a href=\"https://colab.research.google.com/github/alecseiterr/safe_city/blob/main/Taranov_Anatoly/Data_preparation/Preparation_Images.ipynb\" target=\"_parent\"><img src=\"https://colab.research.google.com/assets/colab-badge.svg\" alt=\"Open In Colab\"/></a>"
      ]
    },
    {
      "cell_type": "markdown",
      "source": [
        "# ВЫРЕЗ нужной части диапазона изображений из крупного датасета"
      ],
      "metadata": {
        "id": "ILfwtt-mOv4d"
      }
    },
    {
      "cell_type": "markdown",
      "metadata": {
        "id": "xkozMipLL_my"
      },
      "source": [
        " Работа с гугл диском\n",
        "* по необходимости"
      ]
    },
    {
      "cell_type": "markdown",
      "metadata": {
        "id": "J4RtTdy9moZE"
      },
      "source": [
        "# Подготовка изображений\n",
        "* Выборка нужного диапазона изображений для разметки\n",
        "* Для формирования выборки указываем диапазон имён в # Начальное и конечное имена файлов start_image_name,  end_image_name  "
      ]
    },
    {
      "cell_type": "code",
      "execution_count": null,
      "metadata": {
        "id": "DXdUM__XYXCs"
      },
      "outputs": [],
      "source": [
        "import os\n",
        "import shutil\n",
        "import re\n",
        "import random\n",
        "\n",
        "# Путь к папке с изображениями на Google Drive\n",
        "folder_path = \"/content/drive/MyDrive/CDetection/1000 Chosen\"\n",
        "\n",
        "# Создание папки для сохранения изображений\n",
        "output_folder = \"/content/drive/MyDrive/CDetection/SelectImg\"\n",
        "if not os.path.exists(output_folder):\n",
        "    os.makedirs(output_folder)\n",
        "\n",
        "# Регулярное выражение для поиска файлов с порядковыми номерами\n",
        "pattern = r'unique_frame_(\\d+)\\.png'\n",
        "\n",
        "# Начальное и конечное имена файлов\n",
        "start_image_name = \"unique_1817.png\"\n",
        "end_image_name = \"unique_2152.png\"\n",
        "\n",
        "# Список для хранения найденных файлов\n",
        "found_files = []\n",
        "\n",
        "# Проход по списку файлов и поиск файлов в диапазоне\n",
        "for filename in os.listdir(folder_path):\n",
        "    match = re.match(pattern, filename)\n",
        "    if match:\n",
        "        image_number = int(match.group(1))\n",
        "        if start_image_name <= filename <= end_image_name:\n",
        "            found_files.append(os.path.join(folder_path, filename))\n",
        "\n",
        "# Перемешивание найденных файлов для выбора случайных\n",
        "random.shuffle(found_files)\n",
        "\n",
        "# Переменная для подсчета скопированных изображений\n",
        "copied_images_count = 0\n",
        "\n",
        "# Проход по случайно выбранным файлам и копирование их\n",
        "for image_path in found_files:\n",
        "    filename = os.path.basename(image_path)\n",
        "    output_image_path = os.path.join(output_folder, filename)\n",
        "\n",
        "    # Попытка скопировать изображение\n",
        "    try:\n",
        "        shutil.copy(image_path, output_image_path)\n",
        "        copied_images_count += 1\n",
        "        print(f\"Скопированно {filename}\")\n",
        "    except Exception as e:\n",
        "        print(f\"Не удалось скопировать изображение {filename}: {str(e)}\")\n",
        "\n",
        "print(f\"Скопировано всего изображений: {copied_images_count}\")\n",
        "print(\"Готово\")\n"
      ]
    }
  ],
  "metadata": {
    "colab": {
      "provenance": [],
      "collapsed_sections": [
        "xkozMipLL_my"
      ],
      "authorship_tag": "ABX9TyPtVyGEuuaNeUuD3qa8+01z",
      "include_colab_link": true
    },
    "kernelspec": {
      "display_name": "Python 3",
      "name": "python3"
    },
    "language_info": {
      "name": "python"
    }
  },
  "nbformat": 4,
  "nbformat_minor": 0
}