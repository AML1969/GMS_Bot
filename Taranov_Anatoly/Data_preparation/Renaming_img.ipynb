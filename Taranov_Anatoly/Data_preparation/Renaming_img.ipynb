{
  "nbformat": 4,
  "nbformat_minor": 0,
  "metadata": {
    "colab": {
      "provenance": [],
      "include_colab_link": true
    },
    "kernelspec": {
      "name": "python3",
      "display_name": "Python 3"
    },
    "language_info": {
      "name": "python"
    }
  },
  "cells": [
    {
      "cell_type": "markdown",
      "metadata": {
        "id": "view-in-github",
        "colab_type": "text"
      },
      "source": [
        "<a href=\"https://colab.research.google.com/github/alecseiterr/safe_city/blob/main/Taranov_Anatoly/Data_preparation/Renaming_img.ipynb\" target=\"_parent\"><img src=\"https://colab.research.google.com/assets/colab-badge.svg\" alt=\"Open In Colab\"/></a>"
      ]
    },
    {
      "cell_type": "markdown",
      "source": [
        "# Для сборки набора изображений, переименование для подачи на разметку\n",
        "\n",
        "* Для сбора из разных источников в одну папку с именами разных форматов.  \n",
        "* Переименовывает файлы для унифицирования названий\n",
        "  для последыющей индентификации по номеру в имени.\n",
        "* Добавляет изображения в папку сбора с индексом следыющим за последним п. сбора\n",
        "* При добавлении файлов с другого источника не забываем менять путь входного\n",
        "* Устанавливаем - start_index = 20  # Начальный индекс следыющей партии файлов.\n",
        "  \n"
      ],
      "metadata": {
        "id": "P2MmHNoD95IX"
      }
    },
    {
      "cell_type": "code",
      "source": [
        "import os\n",
        "\n",
        "from google.colab import drive\n",
        "drive.mount('/content/drive/')\n"
      ],
      "metadata": {
        "colab": {
          "base_uri": "https://localhost:8080/"
        },
        "id": "x97fOKH6-UHw",
        "outputId": "c59d9679-79dd-4250-cd5e-5b7ad5fca0d5"
      },
      "execution_count": null,
      "outputs": [
        {
          "output_type": "stream",
          "name": "stdout",
          "text": [
            "Drive already mounted at /content/drive/; to attempt to forcibly remount, call drive.mount(\"/content/drive/\", force_remount=True).\n"
          ]
        }
      ]
    },
    {
      "cell_type": "markdown",
      "source": [
        "# Renaming a file\n",
        "\n"
      ],
      "metadata": {
        "id": "96ElCVQKagG5"
      }
    },
    {
      "cell_type": "code",
      "source": [
        "import cv2\n",
        "import numpy as np\n",
        "import os\n",
        "import shutil\n",
        "from PIL import Image\n",
        "\n",
        "os.chdir(\"/content/drive/MyDrive/Стажировка/KvantTelecomMain/Конфликты/MyRename2\")\n",
        "print(\"Текущая папка:\", os.getcwd())\n",
        "\n",
        "output_folder = \"/content/drive/MyDrive/Стажировка/KvantTelecomMain/Конфликты/ВыборТрен1\"\n",
        "if not os.path.exists(output_folder):\n",
        "    os.makedirs(output_folder, exist_ok=True)\n",
        "\n",
        "old_file = os.listdir()\n",
        "new_file = []  # Добавлена эта строка для определения списка new_file\n",
        "img_frames = []  # Добавлена эта строка для определения списка img_frames\n",
        "\n",
        "def dhash(image, hash_size=8):\n",
        "    resized = cv2.resize(image, (hash_size + 1, hash_size))\n",
        "    diff = resized[:, 1:] > resized[:, :-1]\n",
        "    return sum([2 ** i for (i, v) in enumerate(diff.flatten()) if v])\n",
        "\n",
        "def is_similar(image1, image2, threshold=80):\n",
        "    hash1 = dhash(image1)\n",
        "    hash2 = dhash(image2)\n",
        "    difference = bin(hash1 ^ hash2).count('1')\n",
        "    similarity = (1 - difference / (8 * 8)) * 100\n",
        "    return similarity >= threshold\n",
        "\n",
        "start_index = 20  # Начальный индекс для сохранения и переименования файлов\n",
        "\n",
        "for i in range(len(old_file)):\n",
        "    new_file_name = f'img_{start_index + i}{old_file[i][-4:]}'  # Исправлено имя нового файла с учетом начального индекса\n",
        "    new_file.append(new_file_name)\n",
        "    file_path = os.path.join(output_folder, new_file_name)\n",
        "\n",
        "    current_frame = cv2.imread(old_file[i])\n",
        "\n",
        "    is_duplicate = False\n",
        "    for frame in img_frames:\n",
        "        if is_similar(current_frame, frame):\n",
        "            is_duplicate = True\n",
        "            break\n",
        "\n",
        "    if not is_duplicate:\n",
        "        img_frames.append(current_frame)\n",
        "        shutil.copy2(old_file[i], file_path)\n",
        "        if len(img_frames) == 5:\n",
        "            print(\"Результат переименования:\")\n",
        "            for file in new_file[:5]:\n",
        "                print(file)\n"
      ],
      "metadata": {
        "id": "k0SEhAovcxfr",
        "colab": {
          "base_uri": "https://localhost:8080/"
        },
        "outputId": "893c4b5f-9d5e-459b-a22d-db1237653daa"
      },
      "execution_count": null,
      "outputs": [
        {
          "output_type": "stream",
          "name": "stdout",
          "text": [
            "Текущая папка: /content/drive/MyDrive/Стажировка/KvantTelecomMain/Конфликты/MyRename2\n",
            "Результат переименования:\n",
            "img_20.jpg\n",
            "img_21.jpg\n",
            "img_22.jpg\n",
            "img_23.jpg\n",
            "img_24.jpg\n"
          ]
        }
      ]
    }
  ]
}