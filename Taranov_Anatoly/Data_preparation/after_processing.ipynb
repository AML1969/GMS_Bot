{
  "cells": [
    {
      "cell_type": "markdown",
      "metadata": {
        "id": "view-in-github",
        "colab_type": "text"
      },
      "source": [
        "<a href=\"https://colab.research.google.com/github/alecseiterr/safe_city/blob/main/Taranov_Anatoly/Data_preparation/after_processing.ipynb\" target=\"_parent\"><img src=\"https://colab.research.google.com/assets/colab-badge.svg\" alt=\"Open In Colab\"/></a>"
      ]
    },
    {
      "cell_type": "markdown",
      "metadata": {
        "id": "2EuabFnpqceg"
      },
      "source": [
        "# Доподготовка данных после разметки"
      ]
    },
    {
      "cell_type": "markdown",
      "metadata": {
        "id": "jN8tHJxvt5US"
      },
      "source": [
        "Часть 1: Загрузка и распаковка файлов из Google Drive"
      ]
    },
    {
      "cell_type": "code",
      "execution_count": null,
      "metadata": {
        "colab": {
          "base_uri": "https://localhost:8080/"
        },
        "id": "nHEOtK1kLOTW",
        "outputId": "fdba4107-5f3b-4bbd-b46e-6e758afe0ed9"
      },
      "outputs": [
        {
          "name": "stdout",
          "output_type": "stream",
          "text": [
            "Drive already mounted at /content/drive; to attempt to forcibly remount, call drive.mount(\"/content/drive\", force_remount=True).\n"
          ]
        }
      ],
      "source": [
        "from google.colab import drive\n",
        "drive.mount('/content/drive')"
      ]
    },
    {
      "cell_type": "code",
      "execution_count": null,
      "metadata": {
        "id": "uxSRNly5trxw"
      },
      "outputs": [],
      "source": [
        "import os\n",
        "import gdown\n",
        "import zipfile\n",
        "\n",
        "# Определите идентификатор файла Google Drive\n",
        "file_id = \"16ReVLVA217aPBxxLaIbR2uG_biyilK\"\n",
        "\n",
        "# Определите URL общего файла\n",
        "url = f\"https://drive.google.com/uc?id={file_id}\"\n",
        "\n",
        "# Укажите папку назначения в Google Colab\n",
        "output_folder = \"/content/unzipped_contents\"\n",
        "\n",
        "# Создайте папку назначения\n",
        "os.makedirs(output_folder, exist_ok=True)\n",
        "\n",
        "# Загрузите файл\n",
        "gdown.download(url, output_folder + \"/file.zip\", quiet=False)\n",
        "\n",
        "# Распакуйте файл\n",
        "with zipfile.ZipFile(output_folder + \"/file.zip\", \"r\") as zip_ref:\n",
        "    zip_ref.extractall(output_folder)\n",
        "\n",
        "# Выведите список содержимого распакованной папки\n",
        "os.listdir(output_folder)\n"
      ]
    },
    {
      "cell_type": "markdown",
      "metadata": {
        "id": "ABmXyhvCuD58"
      },
      "source": [
        "Часть 2: Ресайз и разделение изображений"
      ]
    },
    {
      "cell_type": "code",
      "execution_count": null,
      "metadata": {
        "colab": {
          "base_uri": "https://localhost:8080/"
        },
        "id": "eKxqCc2-tsh4",
        "outputId": "ca87fd70-9855-4105-e119-6ed809194e2d"
      },
      "outputs": [
        {
          "name": "stderr",
          "output_type": "stream",
          "text": [
            "<ipython-input-7-b14a3059eb06>:17: DeprecationWarning: ANTIALIAS is deprecated and will be removed in Pillow 10 (2023-07-01). Use LANCZOS or Resampling.LANCZOS instead.\n",
            "  image = image.resize(output_size, Image.ANTIALIAS)\n"
          ]
        },
        {
          "name": "stdout",
          "output_type": "stream",
          "text": [
            "Задача выполнена.\n"
          ]
        }
      ],
      "source": [
        "import gdown\n",
        "import zipfile\n",
        "import os\n",
        "from PIL import Image\n",
        "\n",
        "# Определите пути к папкам с входными и выходными изображениями\n",
        "input_images_folder = \"/content/drive/MyDrive/CDetection/train/images\"\n",
        "output_images_folder = \"/content/drive/MyDrive/CDetection/train_1/images_1\"\n",
        "\n",
        "# Функция для ресайза и разделения изображений\n",
        "def process_images(input_folder, output_folder, output_size=(1920, 1280), segment_size=(640, 640)):\n",
        "    os.makedirs(output_folder, exist_ok=True)\n",
        "    for filename in os.listdir(input_folder):\n",
        "        if filename.endswith(\".jpg\"):\n",
        "            image_path = os.path.join(input_folder, filename)\n",
        "            image = Image.open(image_path)\n",
        "            image = image.resize(output_size, Image.ANTIALIAS)\n",
        "            width, height = image.size\n",
        "            for i in range(3):\n",
        "                for j in range(2):\n",
        "                    left = i * segment_size[0]\n",
        "                    upper = j * segment_size[1]\n",
        "                    right = left + segment_size[0]\n",
        "                    lower = upper + segment_size[1]\n",
        "                    segment = image.crop((left, upper, right, lower))\n",
        "                    segment.save(os.path.join(output_folder, f\"{filename}_{i}{j}.jpg\"))\n",
        "\n",
        "# Обработка и ресайз изображений\n",
        "process_images(input_images_folder, output_images_folder)\n",
        "\n",
        "# Обновление меток (предполагая, что метки - это текстовые файлы)\n",
        "output_labels_folder = \"/content/drive/MyDrive/CDetection/train_1/labels_1\"\n",
        "os.makedirs(output_labels_folder, exist_ok=True)\n",
        "for filename in os.listdir(input_labels_folder):\n",
        "    if filename.endswith(\".txt\"):\n",
        "        label_path = os.path.join(input_labels_folder, filename)\n",
        "        with open(label_path, \"r\") as file:\n",
        "            lines = file.readlines()\n",
        "        with open(os.path.join(output_labels_folder, filename), \"w\") as file:\n",
        "            for line in lines:\n",
        "                file.write(f\"Изменено размер и разделено: {line}\")\n",
        "\n",
        "print(\"Задача выполнена.\")\n"
      ]
    },
    {
      "cell_type": "markdown",
      "metadata": {
        "id": "Htm2nHhluXEp"
      },
      "source": [
        "Часть 3: Разделение меток"
      ]
    },
    {
      "cell_type": "code",
      "execution_count": null,
      "metadata": {
        "colab": {
          "base_uri": "https://localhost:8080/"
        },
        "id": "UEKJhjJGuC8e",
        "outputId": "28ac4733-395c-4ccf-caff-faec015429fb"
      },
      "outputs": [
        {
          "name": "stdout",
          "output_type": "stream",
          "text": [
            "Задача выполнена.\n"
          ]
        }
      ],
      "source": [
        "\n",
        "import os\n",
        "\n",
        "# Определите пути к папкам с входными и выходными метками\n",
        "input_labels_folder = \"/content/drive/MyDrive/CDetection/train/labels\"\n",
        "output_labels_folder = \"/content/drive/MyDrive/CDetection/train_1/labels_1\"\n",
        "\n",
        "# Функция для разделения файлов меток\n",
        "def split_labels(input_folder, output_folder):\n",
        "    os.makedirs(output_folder, exist_ok=True)\n",
        "    for filename in os.listdir(input_folder):\n",
        "        if filename.endswith(\".txt\"):\n",
        "            label_path = os.path.join(input_folder, filename)\n",
        "            with open(label_path, \"r\") as file:\n",
        "                lines = file.readlines()\n",
        "            for i in range(3):\n",
        "                for j in range(2):\n",
        "                    segment_name = f\"{i}{j}\"\n",
        "                    segment_label_path = os.path.join(output_folder, f\"{filename}_{segment_name}.txt\")\n",
        "                    with open(segment_label_path, \"w\") as segment_file:\n",
        "                        for line in lines:\n",
        "                            segment_file.write(f\"Изменено размер и разделено {segment_name}: {line}\")\n",
        "\n",
        "# Разделение и обновление текстовых файлов меток\n",
        "split_labels(input_labels_folder, output_labels_folder)\n",
        "\n",
        "print(\"Задача выполнена.\")\n"
      ]
    },
    {
      "cell_type": "markdown",
      "source": [
        "Часть 4. Разделение на выборки Train, Val"
      ],
      "metadata": {
        "id": "UVPmQg4qcbYz"
      }
    },
    {
      "cell_type": "code",
      "execution_count": null,
      "metadata": {
        "id": "LHaGkmE0-WZp"
      },
      "outputs": [],
      "source": [
        "import os\n",
        "import random\n",
        "import shutil\n",
        "import yaml\n",
        "\n",
        "# Пути к директориям с данными\n",
        "data_dir = 'images_1'  # Директория с изображениями и метками (labels)\n",
        "output_dir = '/content/data_custom'  # Директория для подготовленных данных\n",
        "\n",
        "# Создайте директорию для подготовленных данных, если она не существует\n",
        "os.makedirs(output_dir, exist_ok=True)\n",
        "\n",
        "# Создайте поддиректории для обучающей и валидационной выборок\n",
        "train_dir = os.path.join(output_dir, 'train')\n",
        "valid_dir = os.path.join(output_dir, 'valid')\n",
        "os.makedirs(train_dir, exist_ok=True)\n",
        "os.makedirs(valid_dir, exist_ok=True)\n",
        "\n",
        "# Получите список всех файлов изображений\n",
        "image_files = [f for f in os.listdir(data_dir) if f.endswith('.jpg')]\n",
        "\n",
        "# Установите коэффициент разделения (0.7 для обучающей и 0.3 для валидационной выборок)\n",
        "split_ratio = 0.7\n",
        "\n",
        "# Вычислите количество изображений для обучающей и валидационной выборок\n",
        "num_images = len(image_files)\n",
        "num_train_images = int(num_images * split_ratio)\n",
        "num_valid_images = num_images - num_train_images\n",
        "\n",
        "# Случайным образом перемешайте список изображений\n",
        "random.shuffle(image_files)\n",
        "\n",
        "# Разделите изображения на обучающую и валидационную выборки\n",
        "train_images = image_files[:num_train_images]\n",
        "valid_images = image_files[num_train_images:]\n",
        "\n",
        "# Копируйте изображения и метки в соответствующие поддиректории\n",
        "for image_file in train_images:\n",
        "    image_path = os.path.join(data_dir, image_file)\n",
        "    label_file = image_file.replace('.jpg', '.txt')\n",
        "    label_path = os.path.join(data_dir, label_file)\n",
        "    shutil.copy(image_path, os.path.join(train_dir, image_file))\n",
        "    shutil.copy(label_path, os.path.join(train_dir, label_file))\n",
        "\n",
        "for image_file in valid_images:\n",
        "    image_path = os.path.join(data_dir, image_file)\n",
        "    label_file = image_file.replace('.jpg', '.txt')\n",
        "    label_path = os.path.join(data_dir, label_file)\n",
        "    shutil.copy(image_path, os.path.join(valid_dir, image_file))\n",
        "    shutil.copy(label_path, os.path.join(valid_dir, label_file))\n",
        "\n",
        "# Создайте файл data.yaml для указания путей к обучающим и валидационным данным\n",
        "data_yaml = {\n",
        "    'train': '/content/data_custom/train',\n",
        "    'val': '/content/data_custom/valid',\n",
        "    'nc': 2,  # Количество классов (для двух классов)\n",
        "    'names': ['class1', 'class2']  # Имена классов\n",
        "}\n",
        "\n",
        "# Сохраните data.yaml\n",
        "data_yaml_path = os.path.join(output_dir, 'data_custom.yaml')\n",
        "with open(data_yaml_path, 'w') as yaml_file:\n",
        "    yaml.dump(data_yaml, yaml_file)\n",
        "\n",
        "# Теперь у вас есть подготовленные данные и файл data.yaml для обучения с моделью YOLO.\n"
      ]
    }
  ],
  "metadata": {
    "colab": {
      "provenance": [],
      "authorship_tag": "ABX9TyMZKPb+ZK++7bthAHTAIHH2",
      "include_colab_link": true
    },
    "kernelspec": {
      "display_name": "Python 3",
      "name": "python3"
    },
    "language_info": {
      "name": "python"
    }
  },
  "nbformat": 4,
  "nbformat_minor": 0
}