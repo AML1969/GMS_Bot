{
 "cells": [
  {
   "cell_type": "code",
   "execution_count": 1,
   "metadata": {
    "colab": {
     "base_uri": "https://localhost:8080/"
    },
    "executionInfo": {
     "elapsed": 23770,
     "status": "ok",
     "timestamp": 1708893409105,
     "user": {
      "displayName": "Gennady Goryunov",
      "userId": "04106399123632378813"
     },
     "user_tz": -180
    },
    "id": "PVjSSuGxRI8Y",
    "outputId": "dc85252b-120e-43f3-fcce-250825f7df80"
   },
   "outputs": [],
   "source": [
    "import os\n",
    "import shutil\n",
    "import random\n",
    "from PIL import Image\n",
    "import cv2\n",
    "from tqdm import tqdm\n",
    "#from google.colab import drive\n",
    "#drive.mount('/content/drive')\n",
    "#!rm -r sample_data"
   ]
  },
  {
   "cell_type": "code",
   "execution_count": 21,
   "metadata": {},
   "outputs": [
    {
     "name": "stderr",
     "output_type": "stream",
     "text": [
      "C:\\Users\\Gennady\\AppData\\Roaming\\Python\\Python39\\site-packages\\matplotlib\\projections\\__init__.py:63: UserWarning: Unable to import Axes3D. This may be due to multiple versions of Matplotlib being installed (e.g. as a system package and as a pip package). As a result, the 3D projection is not available.\n",
      "  warnings.warn(\"Unable to import Axes3D. This may be due to multiple versions of \"\n"
     ]
    }
   ],
   "source": [
    "import matplotlib.pyplot as plt"
   ]
  },
  {
   "cell_type": "code",
   "execution_count": 37,
   "metadata": {},
   "outputs": [],
   "source": [
    "# Функция для изменения размера и сохранения изображения без учета пропорций\n",
    "def resize_and_save_image(src_img_path, dst_img_path, img_size):\n",
    "    original_image = Image.open(src_img_path)\n",
    "    original_width, original_height = original_image.size\n",
    "\n",
    "    target_image = Image.new('RGB', (img_size, img_size), color='black')\n",
    "\n",
    "#    plt.imshow(original_image)\n",
    "  #  plt.axis('off')  # Отключение осей координат\n",
    "#    plt.show()\n",
    "    \n",
    "    changed_width = img_size\n",
    "    changed_height = img_size\n",
    "    offset_x = 0\n",
    "    offset_y = 0\n",
    "    target_image=original_image.resize((img_size, img_size))\n",
    "#    plt.imshow(target_image)\n",
    "  #  plt.axis('off')  # Отключение осей координат\n",
    "#    plt.show()    \n",
    "\n",
    "    target_image.save(dst_img_path, format='JPEG')\n",
    "\n",
    "    return original_width, original_height, changed_width, changed_height, offset_x, offset_y"
   ]
  },
  {
   "cell_type": "code",
   "execution_count": 2,
   "metadata": {
    "executionInfo": {
     "elapsed": 264,
     "status": "ok",
     "timestamp": 1708893475252,
     "user": {
      "displayName": "Gennady Goryunov",
      "userId": "04106399123632378813"
     },
     "user_tz": -180
    },
    "id": "I3306x-dGlf2"
   },
   "outputs": [],
   "source": [
    "# Функция для удаления директории\n",
    "def delete_directory(path: str):\n",
    "    if os.path.exists(path):\n",
    "        shutil.rmtree(path)\n",
    "\n",
    "# Функция для удаления файла\n",
    "def delete_file(file_name: str):\n",
    "  if os.path.exists(file_name):\n",
    "    os.remove(file_name)\n",
    "\n",
    "# Функция для чтения списка классов из файла\n",
    "def read_classes(file_name: str):\n",
    "  with open(file_name, 'r', encoding='utf-8') as file:\n",
    "    classes = [line.strip() for line in file if line.strip()]\n",
    "  return classes\n",
    "\n",
    "# Функция для нахождения пар изображение-метка\n",
    "def find_image_label_pairs(src_dir):\n",
    "    images = {}\n",
    "    labels = {}\n",
    "\n",
    "    # Проходим по всем файлам во всех поддиректориях\n",
    "    for root, _, files in os.walk(src_dir):\n",
    "        for file in files:\n",
    "            if file.lower().endswith(('.jpg', '.jpeg', '.png', '.bmp', '.tif', '.tiff')):\n",
    "                base_name = os.path.splitext(file)[0]\n",
    "                images[base_name] = os.path.join(root, file)\n",
    "            elif file.lower().endswith('.txt'):\n",
    "                base_name = os.path.splitext(file)[0]\n",
    "                labels[base_name] = os.path.join(root, file)\n",
    "\n",
    "    # Сопоставляем изображения и метки\n",
    "    pairs = []\n",
    "    for base_name, img_path in images.items():\n",
    "        txt_path = labels.get(base_name)\n",
    "        if txt_path:\n",
    "            pairs.append((img_path, txt_path))\n",
    "\n",
    "    return pairs\n",
    "\n",
    "\n",
    "\n",
    "# Функция для изменения разметки YOLO в соответствии с изменением размера изображения\n",
    "def change_yolo_markup(input_txt_path, original_width, original_height, changed_width, changed_height, offset_x, offset_y, img_size, output_txt_path):\n",
    "    with open(input_txt_path, 'r', encoding='utf-8') as file:\n",
    "        lines = file.readlines()\n",
    "\n",
    "    is_bbox_valid = False\n",
    "    with open(output_txt_path, 'w', encoding='utf-8') as file:\n",
    "        for line in lines:\n",
    "            parts = line.strip().split()\n",
    "            if len(parts) != 5:\n",
    "                continue\n",
    "\n",
    "            class_id = int(parts[0])\n",
    "            x_center, y_center, width, height = map(float, parts[1:])\n",
    "\n",
    "            # Адаптация размеров и позиций меток\n",
    "            if changed_width != -1:\n",
    "                x_center *= changed_width\n",
    "                y_center *= changed_height\n",
    "                width *= changed_width\n",
    "                height *= changed_height\n",
    "            else:\n",
    "                x_center *= original_width\n",
    "                y_center *= original_height\n",
    "                width *= original_width\n",
    "                height *= original_height\n",
    "\n",
    "            # Проверка минимального размера метки\n",
    "            if width >= 3 and height >= 3:\n",
    "                is_bbox_valid = True\n",
    "                x_center = (x_center + offset_x) / img_size\n",
    "                y_center = (y_center + offset_y) / img_size\n",
    "                width /= img_size\n",
    "                height /= img_size\n",
    "                file.write(f\"{class_id} {x_center} {y_center} {width} {height}\\n\")\n",
    "\n",
    "    return is_bbox_valid\n",
    "\n",
    "# Функция для нормализации и копирования пары изображение-метка\n",
    "def pair_normalize_copy(img_fname1, txt_fname1, img_fname2, txt_fname2, img_size):\n",
    "    original_width, original_height, changed_width, changed_height, offset_x, offset_y = resize_and_save_image(img_fname1, img_fname2, img_size, keep_proportions)\n",
    "\n",
    "    # Проверка, если изображение не изменилось после ресайза\n",
    "    if original_width == img_size and original_width == changed_width and original_height == changed_height:\n",
    "        shutil.copyfile(txt_fname1, txt_fname2)\n",
    "        return\n",
    "\n",
    "    # Изменение разметки YOLO\n",
    "    is_bbox_valid = change_yolo_markup(txt_fname1, original_width, original_height, changed_width, changed_height, offset_x, offset_y, img_size, txt_fname2)\n",
    "\n",
    "    # Если после ресайза не осталось допустимых меток, удаляем пару файлов\n",
    "    if not is_bbox_valid:\n",
    "        os.remove(img_fname2)\n",
    "        os.remove(txt_fname2)\n",
    "\n",
    "# Функция для замены номеров классов в метках\n",
    "def replace_class_ids_in_labels(label_dir, matches_file):\n",
    "    # Чтение соответствия классов из файла\n",
    "    class_matches = {}\n",
    "    counter_of_class = {} # счетчик классов\n",
    "    with open(matches_file, 'r') as file:\n",
    "        for line in file:\n",
    "            parts = line.strip().split('|')\n",
    "            if len(parts) == 2:\n",
    "                old_class_id, new_class_id = map(int, parts)\n",
    "                class_matches[old_class_id] = new_class_id\n",
    "                counter_of_class[old_class_id] = 0\n",
    "\n",
    "    print(\"Количество заменяемых классов = \",len(class_matches))\n",
    "\n",
    "\n",
    "    # Обработка файлов меток\n",
    "    label_files = [f for f in os.listdir(label_dir) if f.endswith('.txt')]\n",
    "    for label_file in tqdm(label_files, desc=\"Замена классов в метках\", unit=\"file\"):\n",
    "        label_path = os.path.join(label_dir, label_file)\n",
    "        with open(label_path, 'r') as file:\n",
    "            lines = file.readlines()\n",
    "\n",
    "        with open(label_path, 'w') as file:\n",
    "            for line in lines:\n",
    "                parts = line.strip().split()\n",
    "                if len(parts) > 1:\n",
    "                    class_id = int(parts[0])\n",
    "                    if class_id in class_matches:\n",
    "                        parts[0] = str(class_matches[class_id])\n",
    "                        counter_of_class[class_id] += 1\n",
    "                    file.write(' '.join(parts) + '\\n')\n",
    "    print(\"Статистика по классам : \",counter_of_class)\n",
    "\n",
    "# Функция для распределения файлов по папкам\n",
    "def distribute_files(src, dst_dirs, proportions):\n",
    "    # Получаем список всех файлов в исходной директории и разделяем на пары изображений и меток\n",
    "    img_files = [f for f in os.listdir(src) if f.lower().endswith(('.jpg', '.jpeg', '.png', '.bmp', '.tif', '.tiff'))]\n",
    "    # Создаем список пар изображений и соответствующих файлов меток\n",
    "    pairs = [(img, img.rsplit('.', 1)[0] + '.txt') for img in img_files if os.path.exists(os.path.join(src, img.rsplit('.', 1)[0] + '.txt'))]\n",
    "\n",
    "    # Распределяем пары файлов согласно заданным пропорциям\n",
    "    total_pairs = len(pairs)\n",
    "    distribution = [round(prop * total_pairs) for prop in proportions]\n",
    "\n",
    "    # Перемешиваем пары дважды\n",
    "    random.shuffle(pairs)\n",
    "    random.shuffle(pairs)\n",
    "    start = 0\n",
    "    for dst, count in zip(dst_dirs, distribution):\n",
    "        end = start + count\n",
    "        selected_pairs = pairs[start:end]\n",
    "        for img_file, txt_file in tqdm(selected_pairs, desc=f\"Копирование в {dst}\", leave=True):\n",
    "            img_src_path = os.path.join(src, img_file)\n",
    "            txt_src_path = os.path.join(src, txt_file)\n",
    "            img_dst_path = os.path.join(dst, 'images', img_file)\n",
    "            txt_dst_path = os.path.join(dst, 'labels', txt_file)\n",
    "            shutil.copy(img_src_path, img_dst_path)\n",
    "            shutil.copy(txt_src_path, txt_dst_path)\n",
    "        start = end\n",
    "        # Подсчет и вывод количества пар в каждом наборе\n",
    "        num_pairs_img = len(os.listdir(os.path.join(dst, 'images')))\n",
    "        num_pairs_lbs = len(os.listdir(os.path.join(dst, 'labels')))\n",
    "        num_pairs = (num_pairs_img + num_pairs_lbs) // 2\n",
    "        print(f\"В папку {os.path.basename(dst)} распределено {num_pairs} пар.\")\n",
    "\n",
    "# Функция для рисования рамок на изображении\n",
    "def draw_bounding_boxes(img_dir, classes_file):\n",
    "    # Считываем названия классов\n",
    "    with open(classes_file, 'r', encoding='utf-8') as f:\n",
    "        classes = [line.strip() for line in f]\n",
    "\n",
    "    # Определяем список цветов для каждого класса\n",
    "    color_lst = [\n",
    "        (36, 28, 237),   # красный\n",
    "        (39, 127, 255),  # оранжевый\n",
    "        (0, 242, 255),   # желтый\n",
    "        (76, 177, 34),   # зеленый\n",
    "        (232, 162, 0),   # голубой\n",
    "        (204, 72, 63),   # синий\n",
    "        (164, 73, 163),  # фиолетовый\n",
    "        (21, 0, 136),    # коричневый\n",
    "        (127, 127, 127), # серый\n",
    "        (0, 0, 0)        # черный\n",
    "    ]\n",
    "\n",
    "    # Обрабатываем каждый файл изображения\n",
    "    img_files = [f for f in os.listdir(img_dir) if f.lower().endswith(('.jpg', '.jpeg', '.png', '.bmp', '.tif', '.tiff'))]\n",
    "    for img_file in tqdm(img_files, desc=\"Рисование рамок\", leave=True):\n",
    "        img_path = os.path.join(img_dir, img_file)\n",
    "        txt_path = os.path.splitext(img_path)[0] + '.txt'\n",
    "\n",
    "        # Если файла меток нет, пропускаем изображение\n",
    "        if not os.path.exists(txt_path):\n",
    "            continue\n",
    "\n",
    "        image = cv2.imread(img_path)\n",
    "        with open(txt_path, 'r', encoding='utf-8') as f:\n",
    "            for line in f:\n",
    "                parts = line.strip().split()\n",
    "                if len(parts) != 5:\n",
    "                    continue\n",
    "\n",
    "                class_id = int(float(parts[0]))\n",
    "                x_center, y_center, width, height = map(float, parts[1:])\n",
    "                x_min = int((x_center - width / 2) * image.shape[1])\n",
    "                y_min = int((y_center - height / 2) * image.shape[0])\n",
    "                x_max = int((x_center + width / 2) * image.shape[1])\n",
    "                y_max = int((y_center + height / 2) * image.shape[0])\n",
    "\n",
    "                # Выбираем цвет рамки в зависимости от класса\n",
    "                bbox_color = color_lst[class_id % len(color_lst)]\n",
    "\n",
    "                # Рисуем рамку и подпись класса на картинке\n",
    "                cv2.rectangle(image, (x_min, y_min), (x_max, y_max), bbox_color, 1)\n",
    "                if class_id < len(classes):\n",
    "                    cv2.putText(image, classes[class_id], (x_min, y_min - 5), cv2.FONT_HERSHEY_SIMPLEX, 0.5, bbox_color, 1)\n",
    "\n",
    "        # Сохраняем измененное изображение и удаляем файл меток\n",
    "        cv2.imwrite(img_path, image)\n",
    "        os.remove(txt_path)\n",
    "\n",
    "# Функция для создания yaml-файла структуры датасета yolo8\n",
    "def create_yaml_file(dst_dir: str, class_lst):\n",
    "  # Создание пути и имени файла конфигурации\n",
    "  data_yaml_fname = os.path.join(dst_dir, 'data.yaml')\n",
    "  try:\n",
    "    # Открытие файла для записи конфигурации\n",
    "    with open(data_yaml_fname, 'w', encoding='utf-8') as file_yaml:\n",
    "      # Запись путей к наборам данных для тренировки, валидации и тестирования\n",
    "      file_yaml.write('train: ../train/images\\n')\n",
    "      file_yaml.write('val: ../valid/images\\n')\n",
    "      file_yaml.write('test: ../test/images\\n\\n')\n",
    "      # Запись количества классов\n",
    "      file_yaml.write(f'nc: {len(class_lst)}\\n\\n')\n",
    "      # Запись списка классов\n",
    "      file_yaml.write(f'names: {class_lst}')\n",
    "  except Exception as e:\n",
    "    print(f'[ERROR] Error writing the list to a file: {e}')\n",
    "\n"
   ]
  },
  {
   "cell_type": "code",
   "execution_count": 4,
   "metadata": {
    "executionInfo": {
     "elapsed": 325,
     "status": "ok",
     "timestamp": 1708893482416,
     "user": {
      "displayName": "Gennady Goryunov",
      "userId": "04106399123632378813"
     },
     "user_tz": -180
    },
    "id": "xx92gLutIDEX"
   },
   "outputs": [],
   "source": [
    "# Главная исполняемая функция, в которую собрана вся логика по формированию рабочего датасета для YOLO8\n",
    "def main_process(src_dir, dst_dir, classes_file, img_size):\n",
    "    print(\"Начало обработки данных...\")\n",
    "    # Создание временной директории для обработки данных\n",
    "    temp_dir = os.path.join(src_dir, 'Temp')\n",
    "    # Создание директорий для тренировочных, валидационных и тестовых данных\n",
    "    train_dir = os.path.join(dst_dir, 'train')\n",
    "    valid_dir = os.path.join(dst_dir, 'valid')\n",
    "    test_dir = os.path.join(dst_dir, 'test')\n",
    "\n",
    "    # Создание необходимых директорий и поддиректорий\n",
    "    os.makedirs(temp_dir, exist_ok=True)\n",
    "    os.makedirs(dst_dir, exist_ok=True)\n",
    "    os.makedirs(train_dir, exist_ok=True)\n",
    "    os.makedirs(valid_dir, exist_ok=True)\n",
    "    os.makedirs(test_dir, exist_ok=True)\n",
    "    for dir in [train_dir, valid_dir, test_dir]:\n",
    "        os.makedirs(os.path.join(dir, 'images'), exist_ok=True)\n",
    "        os.makedirs(os.path.join(dir, 'labels'), exist_ok=True)\n",
    "    print(\"Директории созданы.\")\n",
    "\n",
    "    # Находим все пары изображение-метка\n",
    "    print(\"Поиск пар изображение-метка...\")\n",
    "    pairs = find_image_label_pairs(src_dir)\n",
    "    print(f\"Найдено {len(pairs)} пар.\\n\")\n",
    "\n",
    "    # Копируем и изменяем размер изображений\n",
    "    print(\"Обработка и копирование изображений во временную директорию...\")\n",
    "    for img_path, txt_path in tqdm(pairs, desc=\"Обрабатываем изображения\"):\n",
    "        base_name = os.path.basename(img_path)\n",
    "        new_img_path = os.path.join(temp_dir, base_name)\n",
    "        new_txt_path = os.path.join(temp_dir, os.path.basename(txt_path))\n",
    "        pair_normalize_copy(img_path, txt_path, new_img_path, new_txt_path, img_size)\n",
    "    print(\"Изображения обработаны и скопированы.\\n\")\n",
    "\n",
    "    # Заменяем номера классов в файлах меток на соответствующие нашему перечню из classes.txt\n",
    "    print(\"Замена номеров меток на актуальные...\")\n",
    "    replace_class_ids_in_labels(temp_dir, matches_file)\n",
    "    print(\"Метки приведены в соответствие.\\n\")\n",
    "\n",
    "    # Распределяем файлы по папкам train, valid и test\n",
    "    print(\"Распределение файлов по папкам train, valid и test...\")\n",
    "    distribute_files(temp_dir, [train_dir, valid_dir, test_dir], distribute_dataset)\n",
    "    print(\"Файлы распределены.\\n\")\n",
    "\n",
    "    # Рисуем рамки вокруг объектов\n",
    "    print(\"Рисование рамок на изображениях в папке Temp...\")\n",
    "    draw_bounding_boxes(temp_dir, classes_file)\n",
    "    print(\"\\nРамки нарисованы.\\n\")\n",
    "\n",
    "    # Создаем yaml файл для YOLOv8\n",
    "    print(\"Создание файла конфигурации data.yaml...\")\n",
    "    class_lst = read_classes(classes_file)\n",
    "    create_yaml_file(dst_dir, class_lst)\n",
    "    print(\"Файл data.yaml создан.\")\n",
    "\n",
    "    print(\"Обработка данных завершена.\")\n",
    "\n"
   ]
  },
  {
   "cell_type": "code",
   "execution_count": 39,
   "metadata": {
    "colab": {
     "base_uri": "https://localhost:8080/"
    },
    "executionInfo": {
     "elapsed": 232370,
     "status": "ok",
     "timestamp": 1708893802164,
     "user": {
      "displayName": "Gennady Goryunov",
      "userId": "04106399123632378813"
     },
     "user_tz": -180
    },
    "id": "T4RbUt7pt2i4",
    "outputId": "4e58bf6d-b2b8-4328-de5a-91ab779042f7"
   },
   "outputs": [
    {
     "name": "stdout",
     "output_type": "stream",
     "text": [
      "Начало обработки данных...\n",
      "Директории созданы.\n",
      "Поиск пар изображение-метка...\n",
      "Найдено 538 пар.\n",
      "\n",
      "Обработка и копирование изображений во временную директорию...\n"
     ]
    },
    {
     "name": "stderr",
     "output_type": "stream",
     "text": [
      "Обрабатываем изображения: 100%|██████████████████████████████████████████████████████| 538/538 [00:07<00:00, 73.75it/s]\n"
     ]
    },
    {
     "name": "stdout",
     "output_type": "stream",
     "text": [
      "Изображения обработаны и скопированы.\n",
      "\n",
      "Замена номеров меток на актуальные...\n",
      "Количество заменяемых классов =  1\n"
     ]
    },
    {
     "name": "stderr",
     "output_type": "stream",
     "text": [
      "Замена классов в метках: 100%|███████████████████████████████████████████████████| 538/538 [00:00<00:00, 2498.05file/s]\n"
     ]
    },
    {
     "name": "stdout",
     "output_type": "stream",
     "text": [
      "Статистика по классам :  {0: 1072}\n",
      "Метки приведены в соответствие.\n",
      "\n",
      "Распределение файлов по папкам train, valid и test...\n"
     ]
    },
    {
     "name": "stderr",
     "output_type": "stream",
     "text": [
      "Копирование в c:/Users/Gennady/Safe_city/Datasets/UII/Dataset2\\train: 100%|█████████| 377/377 [00:00<00:00, 563.32it/s]\n"
     ]
    },
    {
     "name": "stdout",
     "output_type": "stream",
     "text": [
      "В папку train распределено 377 пар.\n"
     ]
    },
    {
     "name": "stderr",
     "output_type": "stream",
     "text": [
      "Копирование в c:/Users/Gennady/Safe_city/Datasets/UII/Dataset2\\valid: 100%|█████████| 108/108 [00:00<00:00, 528.45it/s]\n"
     ]
    },
    {
     "name": "stdout",
     "output_type": "stream",
     "text": [
      "В папку valid распределено 108 пар.\n"
     ]
    },
    {
     "name": "stderr",
     "output_type": "stream",
     "text": [
      "Копирование в c:/Users/Gennady/Safe_city/Datasets/UII/Dataset2\\test: 100%|████████████| 53/53 [00:00<00:00, 559.26it/s]\n"
     ]
    },
    {
     "name": "stdout",
     "output_type": "stream",
     "text": [
      "В папку test распределено 53 пар.\n",
      "Файлы распределены.\n",
      "\n",
      "Рисование рамок на изображениях в папке Temp...\n"
     ]
    },
    {
     "name": "stderr",
     "output_type": "stream",
     "text": [
      "Рисование рамок: 100%|███████████████████████████████████████████████████████████████| 538/538 [00:05<00:00, 97.02it/s]"
     ]
    },
    {
     "name": "stdout",
     "output_type": "stream",
     "text": [
      "\n",
      "Рамки нарисованы.\n",
      "\n",
      "Создание файла конфигурации data.yaml...\n",
      "Файл data.yaml создан.\n",
      "Обработка данных завершена.\n"
     ]
    },
    {
     "name": "stderr",
     "output_type": "stream",
     "text": [
      "\n"
     ]
    }
   ],
   "source": [
    "# ~~~~~~~~~~~~~~~~~~~~~~~~~~~~~~~~~~~~~~~~~~~~~~~~~~~~~~~~~~~~~~~~~~~~~\n",
    "\n",
    "# Путь к набору исходных датасетов, собранных с первичной подготовкой (есть файлы изображений и соответствующие им файлы меток).\n",
    "# Эти датасеты могут располагаться в произвольном порядке и вложениями.\n",
    "# Файлы меток исходно могут иметь не обязательно верную нумерацию классов. В этом случае надо заполнить файл class_matches.txt с указанием какой номер класса на какой заменить.\n",
    "#src_dir = '/content/drive/MyDrive/UII/Datasets2'\n",
    "src_dir = 'c:/Users/Gennady/Safe_city/Datasets/UII/Datasets2'\n",
    "\n",
    "# Путь к итоговому сводному датасету, который далее пойдет на обучение модели YOLO8\n",
    "#dst_dir = '/content/drive/MyDrive/UII/Dataset2'\n",
    "dst_dir = 'c:/Users/Gennady/Safe_city/Datasets/UII/Dataset2'\n",
    "\n",
    "# Файл классов (внутри не менять, только указать корректный путь где лежит)\n",
    "#classes_file = '/content/drive/MyDrive/UII/classes.txt'\n",
    "classes_file = 'c:/Users/Gennady/Safe_city/Datasets/UII/classes.txt'\n",
    "\n",
    "# Файл замен классов, которые надо провести при обработке первичных загруженных датасетов\n",
    "#matches_file = '/content/drive/MyDrive/UII/class_matches2.txt'\n",
    "matches_file = 'c:/Users/Gennady/Safe_city/Datasets/UII/class_matches2.txt'\n",
    "\n",
    "# Рабочий размер квадрата изображения для передачи потом в YOLO8 (640 не менять)\n",
    "img_size = 640\n",
    "\n",
    "\n",
    "# Доли сплитования наборов для обучения\n",
    "distribute_dataset = [0.7, 0.2, 0.1]\n",
    "\n",
    "# Запуск основного процесса обработки данных\n",
    "main_process(src_dir, dst_dir, classes_file, img_size)"
   ]
  },
  {
   "cell_type": "code",
   "execution_count": 19,
   "metadata": {
    "id": "GIVM1S6A8zb4"
   },
   "outputs": [],
   "source": [
    "# Удаление временной папки после окончания работы\n",
    "# !!! Сперва дождитесь появления всех файлов в целевых наборах\n",
    "# и выборочно визуально просмотрите корректность разметки на картинках в папке Temp\n",
    "# надо подождать несколько минут для завершения этого процесса на Google Drive\n",
    "temp_dir = os.path.join(src_dir, 'Temp')\n",
    "delete_directory(temp_dir)"
   ]
  },
  {
   "cell_type": "code",
   "execution_count": null,
   "metadata": {},
   "outputs": [],
   "source": []
  }
 ],
 "metadata": {
  "colab": {
   "provenance": [
    {
     "file_id": "1Hu7Ft64OIX2YNTGFYofvP-c859goTi8W",
     "timestamp": 1708806269331
    },
    {
     "file_id": "https://github.com/alecseiterr/safe_city/blob/main/common_python_scripts/Resize_Distribute_Dataset_for_YOLO8.ipynb",
     "timestamp": 1708262778360
    }
   ]
  },
  "kernelspec": {
   "display_name": "Python 3 (ipykernel)",
   "language": "python",
   "name": "python3"
  },
  "language_info": {
   "codemirror_mode": {
    "name": "ipython",
    "version": 3
   },
   "file_extension": ".py",
   "mimetype": "text/x-python",
   "name": "python",
   "nbconvert_exporter": "python",
   "pygments_lexer": "ipython3",
   "version": "3.9.13"
  }
 },
 "nbformat": 4,
 "nbformat_minor": 1
}
