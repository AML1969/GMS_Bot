{
  "cells": [
    {
      "cell_type": "code",
      "source": [
        "!pip install pytube"
      ],
      "metadata": {
        "colab": {
          "base_uri": "https://localhost:8080/"
        },
        "id": "u9GSAxc2ji7J",
        "outputId": "dc034910-9837-42c2-ea93-df16c028e431"
      },
      "execution_count": 1,
      "outputs": [
        {
          "output_type": "stream",
          "name": "stdout",
          "text": [
            "Collecting pytube\n",
            "  Downloading pytube-15.0.0-py3-none-any.whl (57 kB)\n",
            "\u001b[?25l     \u001b[90m━━━━━━━━━━━━━━━━━━━━━━━━━━━━━━━━━━━━━━━━\u001b[0m \u001b[32m0.0/57.6 kB\u001b[0m \u001b[31m?\u001b[0m eta \u001b[36m-:--:--\u001b[0m\r\u001b[2K     \u001b[90m━━━━━━━━━━━━━━━━━━━━━━━━━━━━━━━━━━━━━━━━\u001b[0m \u001b[32m57.6/57.6 kB\u001b[0m \u001b[31m1.5 MB/s\u001b[0m eta \u001b[36m0:00:00\u001b[0m\n",
            "\u001b[?25hInstalling collected packages: pytube\n",
            "Successfully installed pytube-15.0.0\n"
          ]
        }
      ]
    },
    {
      "cell_type": "code",
      "source": [
        "# !pip install pytube\n",
        "#~~~~~~~~~~~~~~~~~~~~~~~~~~~~~~~~~~~~~~~~~~~~~~~~~~~~~~~~~~~~~~~~~~~~~~~~~~\n",
        "\n",
        "#~~~~~~~~~~~~~~~~~~~~~~~~~~~~~~~~~~~~~~~~~~~~~~~~~~~~~~~~~~~~~~~~~~~~~~~~~~\n",
        "#~ USAGE\n",
        "# cd c:\\my_campy\n",
        "# .\\camenv8\\Scripts\\activate\n",
        "# cd c:\\my_campy\\SafeCity_Voronezh\\dataset_preparation\n",
        "#~~~~~~~~~~~~~~~~~~~~~~~~\n",
        "#~ !!! в именах директорий, файлов не допускается использовать пробелы и спецсимволы,\n",
        "#~ так как они передаются через параметры командной строки !!!\n",
        "#~~~~~~~~~~~~~~~~~~~~~~~~\n",
        "#~ --src_url -> путь к видео на youtube\n",
        "#~ --dst_dir -> директория с результатами\n",
        "#~~~~~~~~~~~~~~~~~~~~~~~~\n",
        "#~ последовательность выполняемых скриптом действий:\n",
        "#~ 01. удаление dst_dir\n",
        "#~ 02. скачивание видео и сохранение его в dst_dir\n",
        "#~~~~~~~~~~~~~~~~~~~~~~~~\n",
        "# python step01_youtube_downloader.py --src_url https://www.youtube.com/watch?v=o-N3ImykVuI --dst_dir c:/perimeter_raw_dataset/youtube\n",
        "#~~~~~~~~~~~~~~~~~~~~~~~~\n",
        "\n",
        "#~~~~~~~~~~~~~~~~~~~~~~~~~~~~~~~~~~~~~~~~~~~~~~~~~~~~~~~~~~~~~~~~~~~~~~~~~~\n",
        "#~ import the necessary packages\n",
        "import os\n",
        "import shutil\n",
        "import time\n",
        "from pytube import YouTube\n",
        "# import argparse\n",
        "\n",
        "#~~~~~~~~~~~~~~~~~~~~~~~~~~~~~~~~~~~~~~~~~~~~~~~~~~~~~~~~~~~~~~~~~~~~~~~~~~\n",
        "def delete_directory(path: str):\n",
        "  if os.path.exists(path):\n",
        "    try:\n",
        "      shutil.rmtree(path)\n",
        "      # print(f'[INFO] Directory was successfully deleted: `{path}`')\n",
        "    except OSError as e:\n",
        "      print(f'[ERROR] Error deleting a directory: `{path}`: {e.strerror}')\n",
        "      return\n",
        "\n",
        "#~~~~~~~~~~~~~~~~~~~~~~~~~~~~~~~~~~~~~~~~~~~~~~~~~~~~~~~~~~~~~~~~~~~~~~~~~~\n",
        "def make_directory(path: str):\n",
        "  if not os.path.exists(path):\n",
        "    os.makedirs(path)\n",
        "\n",
        "#~~~~~~~~~~~~~~~~~~~~~~~~~~~~~~~~~~~~~~~~~~~~~~~~~~~~~~~~~~~~~~~~~~~~~~~~~~\n",
        "def delete_make_directory(path: str):\n",
        "  delete_directory(path)\n",
        "  make_directory(path)\n",
        "\n",
        "#~~~~~~~~~~~~~~~~~~~~~~~~~~~~~~~~~~~~~~~~~~~~~~~~~~~~~~~~~~~~~~~~~~~~~~~~~~\n",
        "#~ функция для скачивания видео с YouTube\n",
        "def download_youtube_video(url: str, path: str):\n",
        "  yt = YouTube(url)\n",
        "  #~ выбор потока с наивысшим разрешением\n",
        "  video_stream = yt.streams.filter(progressive=True, file_extension='mp4').order_by('resolution').desc().first()\n",
        "  video_stream.download(path)\n",
        "  return os.path.join(path, video_stream.default_filename)\n",
        "\n",
        "#~~~~~~~~~~~~~~~~~~~~~~~~~~~~~~~~~~~~~~~~~~~~~~~~~~~~~~~~~~~~~~~~~~~~~~~~~~\n",
        "def format_execution_time(execution_time):\n",
        "  if execution_time < 1:\n",
        "    return f\"{execution_time:.3f} sec\"\n",
        "\n",
        "  hours = int(execution_time // 3600)\n",
        "  minutes = int((execution_time % 3600) // 60)\n",
        "  seconds = int(execution_time % 60)\n",
        "\n",
        "  if execution_time < 60:\n",
        "    return f\"{seconds}.{int((execution_time % 1) * 1000):03d} sec\"\n",
        "  elif execution_time < 3600:\n",
        "    return f\"{minutes} min {seconds:02d} sec\"\n",
        "  else:\n",
        "    return f\"{hours} h {minutes:02d} min {seconds:02d} sec\"\n",
        "\n",
        "#~~~~~~~~~~~~~~~~~~~~~~~~~~~~~~~~~~~~~~~~~~~~~~~~~~~~~~~~~~~~~~~~~~~~~~~~~~\n",
        "def main_step01_youtube_downloader(src_url: str, dst_dir: str):\n",
        "  start_time = time.time()\n",
        "  print('~'*70)\n",
        "  print('[INFO] Youtube downloader ver.2024.02.11')\n",
        "  #~~~~~~~~~~~~~~~~~~~~~~~~~~~~~~~~~~~~~~~~~~~~~~~~\n",
        "  #~ входные папаметры\n",
        "  #~~~~~~~~~~~~~~~~~~~~~~~~\n",
        "  print('~'*70)\n",
        "  print(f'[INFO] src_url: `{src_url}`')\n",
        "  print(f'[INFO] dst_dir: `{dst_dir}`')\n",
        "  #~~~~~~~~~~~~~~~~~~~~~~~~~~~~~~~~~~~~~~~~~~~~~~~~\n",
        "  #~ 01. удаление dst_dir\n",
        "  #~~~~~~~~~~~~~~~~~~~~~~~~\n",
        "  delete_make_directory(dst_dir)\n",
        "  #~~~~~~~~~~~~~~~~~~~~~~~~~~~~~~~~~~~~~~~~~~~~~~~~\n",
        "  #~ 02. скачиваю файл\n",
        "  #~~~~~~~~~~~~~~~~~~~~~~~~\n",
        "  print('~'*70)\n",
        "  print(f'[INFO] download is in progress...')\n",
        "  download_youtube_video(src_url, dst_dir)\n",
        "  print(f'[INFO] file is uploaded to the directory: `{dst_dir}`')\n",
        "  #~~~~~~~~~~~~~~~~~~~~~~~~~~~~~~~~~~~~~~~~~~~~~~~~\n",
        "  #~ вычисляем время выполнения\n",
        "  #~~~~~~~~~~~~~~~~~~~~~~~~\n",
        "  execution_time = time.time() - start_time\n",
        "  execution_time_str = format_execution_time(execution_time)\n",
        "  print('='*70)\n",
        "  print(f'[INFO] program execution time: {execution_time_str}')\n",
        "  print('='*70)\n",
        "\n",
        "# #~~~~~~~~~~~~~~~~~~~~~~~~~~~~~~~~~~~~~~~~~~~~~~~~~~~~~~~~~~~~~~~~~~~~~~~~~~\n",
        "# if __name__ == \"__main__\":\n",
        "#   parser = argparse.ArgumentParser(description='Youtube downloader.')\n",
        "#   parser.add_argument('--src_url', type=str, default='', help='Youtube url')\n",
        "#   parser.add_argument('--dst_dir', type=str, default='', help='Directory with results')\n",
        "#   args = parser.parse_args()\n",
        "#   #~~~~~~~~~~~~~~~~~~~~~~~~\n",
        "#   main_step01_youtube_downloader(args.src_url, args.dst_dir)"
      ],
      "metadata": {
        "id": "Tc0G71mRlZSZ"
      },
      "execution_count": 2,
      "outputs": []
    },
    {
      "cell_type": "code",
      "source": [
        "#~ подключаем Google Drive\n",
        "from google.colab import drive\n",
        "drive.mount('/content/drive')\n",
        "print('Google Drive подключен!')"
      ],
      "metadata": {
        "colab": {
          "base_uri": "https://localhost:8080/"
        },
        "id": "MAFycrvvYL4l",
        "outputId": "72961621-09c2-497a-d958-eb554eaed53e"
      },
      "execution_count": 3,
      "outputs": [
        {
          "output_type": "stream",
          "name": "stdout",
          "text": [
            "Mounted at /content/drive\n",
            "Google Drive подключен!\n"
          ]
        }
      ]
    },
    {
      "cell_type": "code",
      "source": [
        "args_src_url = 'https://www.youtube.com/watch?v=o-N3ImykVuI'\n",
        "args_dst_dir = '/content/drive/MyDrive/safe_city_step_by_step/youtube'"
      ],
      "metadata": {
        "id": "PiKsYuE8cvy_"
      },
      "execution_count": 4,
      "outputs": []
    },
    {
      "cell_type": "code",
      "source": [
        "main_step01_youtube_downloader(args_src_url, args_dst_dir)"
      ],
      "metadata": {
        "colab": {
          "base_uri": "https://localhost:8080/"
        },
        "id": "HnzL_ewZik0X",
        "outputId": "77830c07-6835-486c-df99-44377a85ac10"
      },
      "execution_count": 5,
      "outputs": [
        {
          "output_type": "stream",
          "name": "stdout",
          "text": [
            "~~~~~~~~~~~~~~~~~~~~~~~~~~~~~~~~~~~~~~~~~~~~~~~~~~~~~~~~~~~~~~~~~~~~~~\n",
            "[INFO] Youtube downloader ver.2024.02.11\n",
            "~~~~~~~~~~~~~~~~~~~~~~~~~~~~~~~~~~~~~~~~~~~~~~~~~~~~~~~~~~~~~~~~~~~~~~\n",
            "[INFO] src_url: `https://www.youtube.com/watch?v=o-N3ImykVuI`\n",
            "[INFO] dst_dir: `/content/drive/MyDrive/safe_city_step_by_step/youtube`\n",
            "~~~~~~~~~~~~~~~~~~~~~~~~~~~~~~~~~~~~~~~~~~~~~~~~~~~~~~~~~~~~~~~~~~~~~~\n",
            "[INFO] download is in progress...\n",
            "[INFO] file is uploaded to the directory: `/content/drive/MyDrive/safe_city_step_by_step/youtube`\n",
            "======================================================================\n",
            "[INFO] program execution time: 8.793 sec\n",
            "======================================================================\n"
          ]
        }
      ]
    }
  ],
  "metadata": {
    "colab": {
      "provenance": []
    },
    "kernelspec": {
      "display_name": "Python 3",
      "name": "python3"
    },
    "language_info": {
      "codemirror_mode": {
        "name": "ipython",
        "version": 3
      },
      "file_extension": ".py",
      "mimetype": "text/x-python",
      "name": "python",
      "nbconvert_exporter": "python",
      "pygments_lexer": "ipython3",
      "version": "3.10.1"
    }
  },
  "nbformat": 4,
  "nbformat_minor": 0
}