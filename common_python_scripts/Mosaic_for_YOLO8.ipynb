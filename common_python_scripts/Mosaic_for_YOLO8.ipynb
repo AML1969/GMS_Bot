{
 "cells": [
  {
   "cell_type": "code",
   "execution_count": null,
   "id": "ca75804c",
   "metadata": {},
   "outputs": [],
   "source": [
    "'''\n",
    "!!!!!!! Эта ячейка для запуска сборщика мозаик на Google Drive через Google Colab !!!!!!!\n",
    "\n",
    "'''\n",
    "\n",
    "from google.colab import drive\n",
    "drive.mount('/content/drive')\n",
    "# Определение директорий исходных изображений и назначения для мозаики\n",
    "src_dir = '/content/drive/MyDrive/UII/Capture/'\n",
    "dest_dir = '/content/drive/MyDrive/UII/Capture/Mosaic/'"
   ]
  },
  {
   "cell_type": "code",
   "execution_count": 1,
   "id": "1c7eca1c",
   "metadata": {},
   "outputs": [],
   "source": [
    "'''\n",
    "!!!!!!! Эта ячейка для запуска сборщика мозаик на локальной машине через Jupyter Notebook (или IDE) !!!!!!!\n",
    "\n",
    "'''\n",
    "\n",
    "# Определение директорий исходных изображений и назначения для мозаики\n",
    "src_dir = r'C:\\Users\\anton\\UII\\AZavod_Ural'\n",
    "dest_dir = r'C:\\Users\\anton\\UII\\AZavod_Ural\\Mosaic'"
   ]
  },
  {
   "cell_type": "code",
   "execution_count": 7,
   "id": "ce219787",
   "metadata": {},
   "outputs": [
    {
     "name": "stderr",
     "output_type": "stream",
     "text": [
      "Обработка директории: 100%|██████████| 746/746 [00:07<00:00, 103.76 files/s]"
     ]
    },
    {
     "name": "stdout",
     "output_type": "stream",
     "text": [
      "\n",
      "Исходные 746 картинок размещены на 391 полотнах\n"
     ]
    },
    {
     "name": "stderr",
     "output_type": "stream",
     "text": [
      "\n"
     ]
    }
   ],
   "source": [
    "'''\n",
    "!!!!!!! Собственно сам сборщик мозаик !!!!!!!\n",
    "\n",
    "'''\n",
    "\n",
    "import os\n",
    "import shutil\n",
    "import random\n",
    "from tqdm import tqdm\n",
    "from PIL import Image\n",
    "\n",
    "def delete_directory(path: str):\n",
    "    # Удаляет директорию по заданному пути, если она существует\n",
    "    if os.path.exists(path):\n",
    "        try:\n",
    "            shutil.rmtree(path)\n",
    "        except OSError as e:\n",
    "            print(f'[ERROR] Error deleting a directory: `{path}`: {e.strerror}')\n",
    "\n",
    "def ensure_directory_exists(directory):\n",
    "    # Создает директорию, если она не существует\n",
    "    if not os.path.exists(directory):\n",
    "        os.makedirs(directory)\n",
    "\n",
    "def create_mosaic(src_dir, dest_dir, canvas_size):\n",
    "    # Загрузка всех изображений из исходной директории и их масштабирование\n",
    "    all_images = []\n",
    "    for file in os.listdir(src_dir):\n",
    "        # Проверка, является ли файл изображением по его расширению\n",
    "        if file.lower().endswith(('.jpg', '.jpeg', '.png', '.bmp', '.tif', '.tiff')):\n",
    "            path = os.path.join(src_dir, file)\n",
    "            try:\n",
    "                # Открытие и масштабирование изображения до размера полотна\n",
    "                with Image.open(path) as img:\n",
    "                    img.thumbnail((canvas_size, canvas_size), Image.Resampling.LANCZOS)\n",
    "                    all_images.append(img.copy())\n",
    "            except Exception as e:\n",
    "                print(f\"Ошибка при открытии изображения {file}: {e}\")\n",
    "\n",
    "    if not all_images:\n",
    "        print(\"В папке нет изображений.\")\n",
    "        return\n",
    "\n",
    "    # Инициализация прогресс-бара для отображения прогресса обработки\n",
    "    cnt_img = len(all_images)\n",
    "    with tqdm(total=cnt_img, desc=\"Обработка директории\", unit=\" files\", leave=True) as pbar:\n",
    "        while all_images:\n",
    "            # Создание нового полотна\n",
    "            canvas = Image.new('RGB', (canvas_size, canvas_size), (0, 0, 0))\n",
    "            x, y = 0, 0\n",
    "            next_row_y = 0\n",
    "            filled_rows_width = []  # Для хранения ширины каждого заполненного ряда\n",
    "\n",
    "            # Размещение изображений на текущем полотне\n",
    "            while all_images:\n",
    "                img = random.choice(all_images)\n",
    "                # Размещение изображения, если оно помещается на полотно\n",
    "                if x + img.width <= canvas_size and y + img.height <= canvas_size:\n",
    "                    canvas.paste(img, (x, y))\n",
    "                    x += img.width\n",
    "                    filled_rows_width.append(x)  # Обновление ширины текущего ряда\n",
    "                    next_row_y = max(next_row_y, y + img.height)\n",
    "                    all_images.remove(img)  # Удаление использованного изображения из списка\n",
    "                    pbar.update(1)\n",
    "                else:\n",
    "                    # Переход к новому ряду или полотну\n",
    "                    if y + next_row_y >= canvas_size:  # Проверка на переход к новому полотну\n",
    "                        break\n",
    "                    x = 0\n",
    "                    y = next_row_y\n",
    "\n",
    "            # Дополнительный перебор 10% от оставшихся изображений\n",
    "            extra_images_to_try = len(all_images) // 10\n",
    "            while extra_images_to_try > 0 and all_images:\n",
    "                img = random.choice(all_images)\n",
    "                # Попытка разместить дополнительные изображения на полотне\n",
    "                if x + img.width <= canvas_size and y + img.height <= canvas_size:\n",
    "                    canvas.paste(img, (x, y))\n",
    "                    x += img.width\n",
    "                    filled_rows_width.append(x)  # Обновление ширины ряда\n",
    "                    next_row_y = max(next_row_y, y + img.height)\n",
    "                    all_images.remove(img)\n",
    "                    pbar.update(1)\n",
    "                extra_images_to_try -= 1\n",
    "\n",
    "            # Расчет смещения для центровки мозаики на полотне\n",
    "            max_filled_width = max(filled_rows_width, default=0)\n",
    "            offset_x = (canvas_size - max_filled_width) // 2\n",
    "            offset_y = (canvas_size - next_row_y) // 2\n",
    "            final_canvas = Image.new('RGB', (canvas_size, canvas_size),(0, 0, 0))\n",
    "            final_canvas.paste(canvas, (offset_x, offset_y))\n",
    "            # Сохранение готового полотна в указанной директории\n",
    "            final_canvas.save(os.path.join(dest_dir, f'mosaic_{random.randint(0, 10000)}.jpg'))\n",
    "\n",
    "    # Вывод количества созданных полотен\n",
    "    print(f\"\\nИсходные {cnt_img} картинок размещены на {len(os.listdir(dest_dir))} полотнах\")\n",
    "\n",
    "# Определение директорий исходных изображений и назначения для мозаики\n",
    "#src_dir = r'C:\\Users\\anton\\UII\\AZavod_Ural'\n",
    "#dest_dir = r'C:\\Users\\anton\\UII\\AZavod_Ural\\Mosaic'\n",
    "# Удаление предыдущей директории мозаики, если она существует\n",
    "delete_directory(dest_dir)\n",
    "# Создание новой директории для мозаики\n",
    "ensure_directory_exists(dest_dir)\n",
    "# Вызов функции создания мозаики\n",
    "create_mosaic(src_dir, dest_dir, 640)"
   ]
  }
 ],
 "metadata": {
  "kernelspec": {
   "display_name": "Python 3 (ipykernel)",
   "language": "python",
   "name": "python3"
  },
  "language_info": {
   "codemirror_mode": {
    "name": "ipython",
    "version": 3
   },
   "file_extension": ".py",
   "mimetype": "text/x-python",
   "name": "python",
   "nbconvert_exporter": "python",
   "pygments_lexer": "ipython3",
   "version": "3.10.8"
  }
 },
 "nbformat": 4,
 "nbformat_minor": 5
}
